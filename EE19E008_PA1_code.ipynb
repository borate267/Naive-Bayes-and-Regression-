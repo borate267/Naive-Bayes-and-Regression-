{
 "cells": [
  {
   "cell_type": "markdown",
   "metadata": {},
   "source": [
    "PLEASE HAVE A LOOK AT THIS\n",
    "\n",
    "The video for the assigment can be found here:\n",
    "\n",
    "https://drive.google.com/file/d/1S3Ij3s0HspXfwhT9rdAaKqaTIjMoPoi8/view?usp=sharing\n",
    "\n",
    "PLEASE COPY PASTE THIS AND VIEW IT. VIEW ACCESS HAS BEEN GIVEN\n"
   ]
  },
  {
   "cell_type": "markdown",
   "metadata": {
    "colab_type": "text",
    "id": "YqdW05iuaJDW"
   },
   "source": [
    "# Problem 1: Bayes Classifier\n",
    "\n",
    "Bayes classifiers fall under the class of **generative classifiers**. Generative classifiers attempt to learn the generation process of a dataset, usually by making some assumptions about the process that generates the data. Then such classifiers use the learned model to make a prediction or classify the unseen data. A simple example is a Naïve Bayes Classifier."
   ]
  },
  {
   "cell_type": "markdown",
   "metadata": {
    "colab_type": "text",
    "id": "hHh1lpZBiblL"
   },
   "source": [
    "### Naïve Bayes classifier\n",
    "Consider a dataset $\\left\\{X^{(i)}, Y^{(i)}\\right\\}_{i=1}^{m}$. Each $X^{(i)}$ is an $n-$dimensional vector of input features. Let $Y^{(i)} \\in \\{0,1\\}$ denote the class to which $X^{(i)}$ belongs (this can be easily extended to multi-class problems as well). A good classifier has to accurately predict the probability that any given input $X$ falls in class $1$ which is $ P(Y=1 | X)$. \n",
    "\n",
    "Recall Bayes theorem,\n",
    "\n",
    "\\begin{align}\n",
    "P(Y|X) &= \\frac{P(X|Y)P(Y)}{P(X)} \\\\\n",
    "       &= \\frac{P(X_1, X_2, \\dots, X_n | Y)P(Y)}{P(X_1, X_2, \\dots, X_n)}\\\\\n",
    "\\end{align}\n",
    "\n",
    "**We use the assumption that features are independent of each other. That is one particular feature does not affect any other feature. Of course these assumptions of independence are rarely true, which is why the model is referred as the \"Naïve Bayes\" model. However, in practice, Naïve Bayes models have performed surprisingly well even on complex tasks, where it is clear that the strong independence assumptions are false.**\n",
    "\n",
    "The independence assumption reduces the conditional probability expression to\n",
    "\\begin{align}\n",
    "P(Y|X) &= \\frac{P(X_1 | Y)P(X_2 | Y) \\dots P(X_n | Y)P(Y)}{P(X_1)P(X_2)\\dots P(X_n)}\\\\\n",
    "\\end{align}\n",
    "\n",
    "The terms $P(X_i|Y)$ and $P(X_i)$ can be easily estimated/learned from the dataset. Hence, the value of $P(Y|X)$ can be found for each value of $Y$. Finally, the class to which $X$ belongs is estimated as $arg\\max_{Y}P(Y|X)$. Moreover since $X$ is independent of $Y$, it is only required to find $arg\\max_{Y}P(X|Y)P(Y).$ For better understanding with an example refer [this](https://towardsdatascience.com/naive-bayes-classifier-81d512f50a7c) article.\n"
   ]
  },
  {
   "cell_type": "markdown",
   "metadata": {
    "colab_type": "text",
    "id": "9Xue1NVSA3WS"
   },
   "source": [
    "### Problem statement and Dataset\n",
    "In this problem, you would implement, train and test a Naïve Bayes model to learn to classify sentiment (positive/negative) of a given text. The training data is in `all_sentiment_shuffled.txt` file.  You can use the function given below to read the dataset\n"
   ]
  },
  {
   "cell_type": "code",
   "execution_count": 1,
   "metadata": {},
   "outputs": [],
   "source": [
    "#Importing libraries used in this assignment\n",
    "\n",
    "import numpy as np\n",
    "import random\n",
    "import statistics \n",
    "import math as mt\n",
    "from numpy.random import RandomState\n",
    "import pandas as pd\n",
    "from sklearn.metrics import accuracy_score \n",
    "from matplotlib.pyplot import *\n",
    "from sklearn import preprocessing\n",
    "from sklearn.linear_model import LogisticRegression, LinearRegression, Ridge\n",
    "from sklearn.preprocessing import PolynomialFeatures, StandardScaler \n",
    "from sklearn.metrics import mean_squared_error\n",
    "import warnings\n",
    "warnings.filterwarnings(\"ignore\")\n"
   ]
  },
  {
   "cell_type": "code",
   "execution_count": 2,
   "metadata": {
    "colab": {},
    "colab_type": "code",
    "id": "NyeDf2Vn4xDW"
   },
   "outputs": [],
   "source": [
    "#Since we need to remove punctuations the punctuations are defined below\n",
    "punctuations = '''!()-[]{};:'\"\\,<>./?@#$%^&*_~'''\n",
    "\n",
    "#All stopwords distract classification and do not have any semanti connection with classification\n",
    "# They need to be removed. Taken from NLTK list\n",
    "\n",
    "stop_words = {\"a\", \"about\", \"above\", \"across\", \"after\", \"afterwards\", \"again\", \"all\", \"almost\", \"alone\", \"along\", \"already\", \"also\", \"although\", \"always\", \"am\", \"among\", \"amongst\", \"amoungst\", \"amount\", \"an\", \"and\", \"another\", \"any\", \"anyhow\", \"anyone\", \"anything\", \"anyway\", \"anywhere\", \"are\", \"as\", \"at\", \"be\", \"became\", \"because\", \"become\",\"becomes\", \"becoming\", \"been\", \"before\", \"behind\", \"being\", \"beside\", \"besides\", \"between\", \"beyond\", \"both\", \"but\", \"by\",\"can\", \"cannot\", \"cant\", \"could\", \"couldnt\", \"de\", \"describe\", \"do\", \"done\", \"each\", \"eg\", \"either\", \"else\", \"enough\", \"etc\", \"even\", \"ever\", \"every\", \"everyone\", \"everything\", \"everywhere\", \"except\", \"few\", \"find\",\"for\",\"found\", \"four\", \"from\", \"further\", \"get\", \"give\", \"go\", \"had\", \"has\", \"hasnt\", \"have\", \"he\", \"hence\", \"her\", \"here\", \"hereafter\", \"hereby\", \"herein\", \"hereupon\", \"hers\", \"herself\", \"him\", \"himself\", \"his\", \"how\", \"however\", \"i\", \"ie\", \"if\", \"in\", \"indeed\", \"is\", \"it\", \"its\", \"itself\", \"keep\", \"least\", \"less\", \"ltd\", \"made\", \"many\", \"may\", \"me\", \"meanwhile\", \"might\", \"mine\", \"more\", \"moreover\", \"most\", \"mostly\", \"much\", \"must\", \"my\", \"myself\", \"name\", \"namely\", \"neither\", \"never\", \"nevertheless\", \"next\",\"no\", \"nobody\", \"none\", \"noone\", \"nor\", \"not\", \"nothing\", \"now\", \"nowhere\", \"of\", \"off\", \"often\", \"on\", \"once\", \"one\", \"only\", \"onto\", \"or\", \"other\", \"others\", \"otherwise\", \"our\", \"ours\", \"ourselves\", \"out\", \"over\", \"own\", \"part\",\"perhaps\", \"please\", \"put\", \"rather\", \"re\", \"same\", \"see\", \"seem\", \"seemed\", \"seeming\", \"seems\", \"she\", \"should\",\"since\", \"sincere\",\"so\", \"some\", \"somehow\", \"someone\", \"something\", \"sometime\", \"sometimes\", \"somewhere\", \"still\", \"such\", \"take\",\"than\", \"that\", \"the\", \"their\", \"them\", \"themselves\", \"then\", \"thence\", \"there\", \"thereafter\", \"thereby\", \"therefore\", \"therein\", \"thereupon\", \"these\", \"they\",\n",
    "\"this\", \"those\", \"though\", \"through\", \"throughout\",\n",
    "\"thru\", \"thus\", \"to\", \"together\", \"too\", \"toward\", \"towards\",\n",
    "\"under\", \"until\", \"up\", \"upon\", \"us\",\n",
    "\"very\", \"was\", \"we\", \"well\", \"were\", \"what\", \"whatever\", \"when\",\n",
    "\"whence\", \"whenever\", \"where\", \"whereafter\", \"whereas\", \"whereby\",\n",
    "\"wherein\", \"whereupon\", \"wherever\", \"whether\", \"which\", \"while\", \n",
    "\"who\", \"whoever\", \"whom\", \"whose\", \"why\", \"will\", \"with\",\n",
    "\"within\", \"without\", \"would\", \"yet\", \"you\", \"your\", \"yours\", \"yourself\", \"yourselves\"\n",
    "    }\n",
    "\n",
    "# Lemmatization is  important because each document a word can be written in different tenses, persons, singular or plural\n",
    "# Lemmatization standardizes this - as probability is computed for exact words. If not done then \"boys\" and \"boy\" \n",
    "# will be treated separately\n",
    "\n",
    "from nltk.stem import WordNetLemmatizer \n",
    "lemmatizer = WordNetLemmatizer() \n",
    "\n",
    "# Count of a word in a sequence of words is necessary for probability calculations\n",
    "# Hence the Counter is imported\n",
    "\n",
    "from collections import Counter\n",
    "import io\n",
    "import math\n",
    "from array import *\n",
    "\n",
    "# This function reads the raw text file and makes a list per line, inturn each list of a line comprises list of \n",
    "# words in that line. Sumup, it returns list of lists\n",
    "# The input corpus_file is the first raw document\n",
    "\n",
    "def read_corpus(corpus_file):\n",
    "\tout = []\n",
    "\twith io.open(corpus_file,encoding=\"utf-8\") as f:\n",
    "\t\tfor line in f:\n",
    "\t\t\ttokens = line.strip().split()\n",
    "            # The first 3 words in each line are the <class, Sentiment, document name>. These are ignored\n",
    "\t\t\tout.append(tokens[3:])\n",
    "\treturn out\n"
   ]
  },
  {
   "cell_type": "markdown",
   "metadata": {
    "colab_type": "text",
    "id": "fGv7az_y6Wyk"
   },
   "source": [
    "### Preprocessing a text document\n",
    "We can guess that not all the words in a document will be helpful in classification. The words such as \"a\", \"the\", \"is\", etc appear in all the documents randomly and can be neglected or removed. Also a same word can be written in different tenses while conveying the same mood (example \"rot\"/\"rotten\"). Hence the documents need to be preprocessed before using them for training the classifier.\n",
    "\n",
    " Libraries such as `gensim`, `nltk` contain functions for doing these preprocessing steps, and you are welcome to use such functions in your code. Formally, these are the preprocessings to be done to the input text to make them simpler and which can improve the performance of your model as well.\n",
    "* **Tokenization**: \n",
    "    1.   Split the text into sentences and the sentences into words\n",
    "    2.   Lowercase the words and remove punctuation\n",
    "* Remove all **stopwords** (stopwords are commonly used word such as \"the\", \"a\", \"an\", \"in\")\n",
    "* Remove all words that have fewer than 3 characters.\n",
    "* **Lemmatize** the document (words in third person are changed to first person, and verbs in past and future tenses are changed into present).\n"
   ]
  },
  {
   "cell_type": "code",
   "execution_count": 49,
   "metadata": {
    "colab": {},
    "colab_type": "code",
    "id": "HtSfxXMwZj8J"
   },
   "outputs": [],
   "source": [
    "\"\"\" Implement preprocessing functions here. Use the python modules named above \n",
    "for implementing the functions. \n",
    "\"\"\"\n",
    "\n",
    "# Removes all the punctuations present in the document\n",
    "def remove_punctuation(doc,doctype,minwordlen):\n",
    "    punct_corpus = read_corpus(doc) #no_punct_corpus becomes a array of list of strings removing the labels\n",
    "    \n",
    "    no_punct_corpus = []\n",
    "    start = 0\n",
    "    end = 0\n",
    "    if (doctype == 0): #Training document 0 to 80% - 1\n",
    "        start = 0\n",
    "        end = int(math.ceil(0.8*len(punct_corpus)))\n",
    "    if (doctype == 1): #Testing document 80% to 100%\n",
    "        start = int(math.ceil(0.8*len(punct_corpus)))\n",
    "        end = len(punct_corpus)\n",
    "    #for each list in the array\n",
    "    for i in range(start,end):\n",
    "        no_punct_line_corpus = []\n",
    "        for j in range(len(punct_corpus[i])):           \n",
    "                       #For each string in the list of strings we test if it is a punctuation and remove the string\n",
    "                      flag = 0;\n",
    "                      for k in range(len(punct_corpus[i][j])):\n",
    "                                        if punct_corpus[i][j][k] in punctuations: #Search character by character\n",
    "                                            flag = 1\n",
    "                                        if len(punct_corpus[i][j]) < minwordlen: #Throw out word length less than min\n",
    "                                            flag = 1\n",
    "                       \n",
    "                      if (flag == 0):\n",
    "                            no_punct_line_corpus.append(punct_corpus[i][j])\n",
    "        no_punct_corpus.append(no_punct_line_corpus)\n",
    "    return no_punct_corpus\n",
    "\n",
    "# Removes words like 'if', 'he', 'she', 'the', etc which never belongs to any topic\n",
    "def remove_stopwords(doc):\n",
    "    no_stopword_corpus = []\n",
    "    for i in range(len(doc)):\n",
    "        no_stopword_line_corpus = []\n",
    "        for j in range(len(doc[i])):\n",
    "            if (doc[i][j] not in stop_words):\n",
    "                no_stopword_line_corpus.append(doc[i][j])\n",
    "        no_stopword_corpus.append(no_stopword_line_corpus)\n",
    "    return no_stopword_corpus\n",
    "\n",
    "# lemmatizer is a transformers which transforms the word to its singular, present-tense form\n",
    "def lemmatize(doc):\n",
    "    no_lemmatize_corpus = []\n",
    "    for i in range(len(doc)):\n",
    "        no_lemmatize_line_corpus = []\n",
    "        for j in range(len(doc[i])):\n",
    "            no_lemmatize_line_corpus.append(lemmatizer.lemmatize(doc[i][j]))\n",
    "        no_lemmatize_corpus.append(no_lemmatize_line_corpus)\n",
    "    return no_lemmatize_corpus\n",
    "\n",
    "def text_preprocess(doc,doctype,minwordlen):\n",
    "    assert isinstance(doc,str)\n",
    "    processed_doc = remove_punctuation(doc,doctype,minwordlen)\n",
    "    #processed_doc = remove_stopwords(processed_doc) #Uncomment of removing stopwords\n",
    "    processed_doc = lemmatize(processed_doc)\n",
    "    return processed_doc\n"
   ]
  },
  {
   "cell_type": "markdown",
   "metadata": {
    "colab_type": "text",
    "id": "oRxDShbjAXjI"
   },
   "source": [
    "### Implementation of Naïve Bayes \n",
    "\n",
    "You can refer the Naïve Bayes section in [this](https://web.stanford.edu/~jurafsky/slp3/slides/7_NB.pdf) slides (slide #32 has a simple pseudo code) to get a hint about implementation of Naïve Bayes for text classification. Then complete the following functions `train_nb` and `classify_nb`.\n",
    "\n",
    "NOTE: If you multiply many small probabilities you may run into problems with numeric precision: the probability becomes zero. To handle this problem, it is recommended that you compute the logarithms of the probabilities instead of the probabilities."
   ]
  },
  {
   "cell_type": "markdown",
   "metadata": {
    "colab_type": "text",
    "id": "slmjGSiuFPZv"
   },
   "source": [
    "### Train-test split\n",
    "After reading the dataset, you must split the dataset into training ($80\\%$) and test data ($20\\%$). Use training data to train the Naïve Bayes classifier and use test data to check the accuracy."
   ]
  },
  {
   "cell_type": "code",
   "execution_count": 50,
   "metadata": {
    "colab": {},
    "colab_type": "code",
    "id": "pz0ljnxZAfFX"
   },
   "outputs": [
    {
     "name": "stdout",
     "output_type": "stream",
     "text": [
      "Our Method -\n",
      " Alpha:  0.35 \n",
      " Sentiment Accuracy:  80.73047858942066 \n",
      "\n",
      "Our Method -\n",
      " Alpha:  1 \n",
      " Sentiment Accuracy:  81.57010915197314 \n",
      "\n",
      "Our Method -\n",
      " Alpha:  1.8 \n",
      " Sentiment Accuracy:  82.28379513014274 \n",
      "\n"
     ]
    }
   ],
   "source": [
    "# To make the program generic the following function sentiment_list_preprocess extracts the\n",
    "# first token of the training documents which are the sentiment name\n",
    "# The input \"doc\" is the raw input document\n",
    "# doctype is 0 for training and 1 for testing\n",
    "# threshold is set to 80%\n",
    "# This function will also be called in testing phase for comparing the predicted sentiment with the actual sentiment\n",
    "# The output is the list of sentiments that each document belong to in order.\n",
    "\n",
    "def sentiment_list_preprocess(doc,doctype,threshold):\n",
    "    out = []\n",
    "    i = 0\n",
    "    with io.open(doc,encoding=\"utf-8\") as f:\n",
    "        for line in f:\n",
    "            if (doctype == 0):\n",
    "                if (i < threshold): #Handling Training Phase\n",
    "                    tokens = line.strip().split()\n",
    "                    out.append(tokens[1])\n",
    "            if (doctype == 1):\n",
    "                if (i >= threshold): #Handling Testing phase\n",
    "                    tokens = line.strip().split()\n",
    "                    out.append(tokens[1])\n",
    "            i = i + 1\n",
    "    return out\n",
    "\n",
    "#The following function calculates the probability of a word given a sentiment\n",
    "# As probability will be less than 1 and too small, we take the logarithm\n",
    "#We use Laplacian smoothing to avoid zero probability\n",
    "# word: The input word\n",
    "# sentiname: Name of the sentiment\n",
    "# alpha: Positive Constant <= 1\n",
    "# senti_word_count is a counter which given a word as input shall output the number of times the word appeared in documents\n",
    "# belonging to the sentiment\n",
    "# total_words_in_senti is the total number of words in all documents belonging to that sentiment\n",
    "# sizeofVocal is the total number of unique words in the lemmatized, no stopword, no punctuation document.\n",
    "# This is size of vocabulary\n",
    "# The output is the probability in logarithm to base 10.\n",
    "# Note that this value will be negative\n",
    "# prob(given word|sentiment) = (count(given word in sentiment) + alpha)/(count(all words in sentiment) + alpha*size of Vocabulary)\n",
    "\n",
    "def prob_word_given_senti(word,sentiname,alpha,senti_word_count,total_words_in_senti,sizeofVocal):\n",
    "    value = math.log(senti_word_count[sentiname][word] + alpha,10) - math.log(total_words_in_senti + alpha * sizeofVocal,10)\n",
    "    return value\n",
    "\n",
    "\n",
    "#################################                 Training Phase           ##################################\n",
    "\n",
    "text_corpus = text_preprocess('./all_sentiment_shuffled.txt',0,2) #All lines of text\n",
    "\n",
    "senti_list_corpus = sentiment_list_preprocess('./all_sentiment_shuffled.txt',0,len(text_corpus)) #All lines of sentis\n",
    "\n",
    "senti_database = list(dict.fromkeys(senti_list_corpus)) #getting unique different types of sentiments\n",
    "\n",
    "senti_count = Counter(senti_list_corpus) #Each sentiment how many times appeared.\n",
    "\n",
    "# The above two are necessary for Probability(sentiments)\n",
    "\n",
    "senti_word_corpus = [0]*len(senti_database) #Word corpus for each senti\n",
    "for i in range(len(senti_database)): #Initializing the structure\n",
    "    senti_word_corpus[i] = []\n",
    "    \n",
    "\"\"\"\n",
    "\n",
    "senti_word_database = [0]*len(senti_database) #Unique words in each senti\n",
    "for i in range(len(senti_database)):\n",
    "    senti_word_database[i] = []\n",
    "\"\"\"\n",
    "\n",
    "senti_word_count = [Counter() for i in range(len(senti_database))] #Word count in each senti\n",
    "\n",
    "\n",
    "vocabulary = []\n",
    "\n",
    "for i in range(len(text_corpus)):\n",
    "    for j in range(len(text_corpus[i])):\n",
    "        vocabulary.append(text_corpus[i][j]) #Make a single list of all words from the list of lists\n",
    "\n",
    "vocabulary_database = list(dict.fromkeys(vocabulary)) #From the single list form a list of unique words\n",
    "sizeofVocal = len(vocabulary_database) # Number of unique words, representing the vocabulary\n",
    "\n",
    "\n",
    "#cnt = [Counter() for i in range(n)]\n",
    "senti_dict = {  senti_database[i] : i for i in range(0, len(senti_database) ) } #Encoding each sentiment item with integer\n",
    "\n",
    "#for each sentiment the list of words with repetition\n",
    "\n",
    "for i in range(len(text_corpus)):\n",
    "    for senti in senti_database:\n",
    "        if (senti == senti_list_corpus[i]):\n",
    "            for j in range(len(text_corpus[i])):\n",
    "                senti_word_corpus[senti_dict[senti]].append(text_corpus[i][j])\n",
    "\n",
    "\n",
    "total_words_in_senti = array('L',[])\n",
    "\n",
    "#Computing Total words in Sentiment and count of each word per sentiment\n",
    "for senti1 in senti_database:\n",
    "    senti = senti_dict[senti1]\n",
    "    total_words_in_senti.append(len(senti_word_corpus[senti]))\n",
    "    senti_word_count[senti] = Counter(senti_word_corpus[senti])\n",
    "\n",
    "#Computing Prob(Senti) for each class and sentiment\n",
    "\n",
    "senti_prob_val = array('d',[])\n",
    "\n",
    "for senti in senti_database:\n",
    "    senti_prob_val.append(float(senti_count[senti])/len(senti_list_corpus))\n",
    "\n",
    "\n",
    "###########################             Testing Phase                #####################################\n",
    "\n",
    "test_text_corpus = text_preprocess('./all_sentiment_shuffled.txt',1,2) #All lines of text\n",
    "\n",
    "test_senti_list_corpus = sentiment_list_preprocess('./all_sentiment_shuffled.txt',1,len(text_corpus)) #All lines of senti\n",
    "\n",
    "alpha_seq = [0.35,1,1.8]\n",
    "\n",
    "for alpha in alpha_seq:\n",
    "    \n",
    "    #alpha = 1.0 #alpha=1.8 including stopwords Pred:82.2837951301 \n",
    "    \n",
    "    correct_senti = 0\n",
    "    total_senti = 0\n",
    "    for i in range(len(test_text_corpus)):\n",
    "        val = 1000000000\n",
    "        maxsenti = 'none'\n",
    "        for senti in senti_database:\n",
    "            val1 = 0\n",
    "            for j in range(len(test_text_corpus[i])):\n",
    "                val1 = val1 + prob_word_given_senti(test_text_corpus[i][j],senti_dict[senti],alpha,senti_word_count,len(senti_word_corpus[senti_dict[senti]]),sizeofVocal)\n",
    "            val1 = abs(val1 + math.log(senti_prob_val[senti_dict[senti]],10)) \n",
    "            if (val > val1):\n",
    "                val = val1\n",
    "                maxsenti = senti\n",
    "        if (maxsenti == test_senti_list_corpus[i]):\n",
    "            correct_senti = correct_senti + 1\n",
    "        total_senti = total_senti + 1\n",
    "    print( 'Our Method -\\n Alpha: ',alpha, '\\n Sentiment Accuracy: ',(float(correct_senti)/float(total_senti))*100 , '\\n')\n",
    "\n"
   ]
  },
  {
   "cell_type": "markdown",
   "metadata": {
    "colab_type": "text",
    "id": "k_DDcDPx_zKo"
   },
   "source": [
    "### Comparison (Bonus)\n",
    "Also use `sklearn`'s Naïve Bayes classifier and compare its performance with the classifier you implemented. "
   ]
  },
  {
   "cell_type": "code",
   "execution_count": 5,
   "metadata": {
    "colab": {},
    "colab_type": "code",
    "id": "2aexZ_3vAAPH"
   },
   "outputs": [
    {
     "name": "stdout",
     "output_type": "stream",
     "text": [
      "Ski_Learn alpha = 1.0, Sentiment Accuracy: 81.24213176668066\n",
      "Ski_Learn alpha = 1.8, Sentiment Accuracy: 82.03944607637432\n"
     ]
    }
   ],
   "source": [
    "#SKlearn implementation\n",
    "\n",
    "#Convert text_corpus to lines of strings\n",
    "ski_text_corpus = read_corpus('./all_sentiment_shuffled.txt');\n",
    "string_text_corpus = []\n",
    "for i in range(len(ski_text_corpus)):\n",
    "        string_line_corpus = \"\"\n",
    "        for j in range(len(ski_text_corpus[i])):\n",
    "            string_line_corpus = \" \".join([string_line_corpus,ski_text_corpus[i][j]])\n",
    "        string_text_corpus.append(string_line_corpus)\n",
    "\n",
    "#Form the label corpus\n",
    "ski_label_corpus = []\n",
    "with io.open('./all_sentiment_shuffled.txt',encoding=\"utf-8\") as f:\n",
    "        for line in f:\n",
    "            tokens = line.strip().split()\n",
    "            ski_label_corpus.append(tokens[1])\n",
    "            \n",
    "            \n",
    "#Encoding the feature set\n",
    "from sklearn.feature_extraction.text import CountVectorizer\n",
    "train_vect = CountVectorizer()\n",
    "new_text_vect = train_vect.fit_transform(string_text_corpus)\n",
    "\n",
    "#splitting the corpus and label to train and test categories\n",
    "from sklearn.model_selection import train_test_split\n",
    "X_train, X_test, y_train, y_test = train_test_split(new_text_vect, ski_label_corpus, test_size=0.2,random_state=109)\n",
    "\n",
    "#Training the classifier\n",
    "from sklearn.naive_bayes import MultinomialNB\n",
    "clf = MultinomialNB(alpha=1.0)\n",
    "clf.fit(X_train,y_train)\n",
    "\n",
    "#Predicting for testing cases\n",
    "y_pred = clf.predict(X_test)\n",
    "from sklearn import metrics\n",
    "print(\"Ski_Learn alpha = 1.0, Sentiment Accuracy:\",metrics.accuracy_score(y_test, y_pred)*100)\n",
    "\n",
    "#Repeat the same for alpha=1.8\n",
    "clf = MultinomialNB(alpha=1.8)\n",
    "clf.fit(X_train,y_train)\n",
    "\n",
    "y_pred = clf.predict(X_test)\n",
    "from sklearn import metrics\n",
    "print(\"Ski_Learn alpha = 1.8, Sentiment Accuracy:\",metrics.accuracy_score(y_test, y_pred)*100)\n",
    "\n",
    "#*******OUR METHOD DOES BETTER THAN SKLEARN!!!*********"
   ]
  },
  {
   "cell_type": "markdown",
   "metadata": {
    "colab_type": "text",
    "id": "vAngbx0yHvNN"
   },
   "source": [
    "Make sure your code is well documented with comments explaining everything done in your algorithm. With this being said, you are free to design your code anyway you like as long as it implements a Naïve Bayes model and is easily understandable. If you digress from the given code template, explain briefly the structure of your code as well."
   ]
  },
  {
   "cell_type": "markdown",
   "metadata": {
    "colab_type": "text",
    "id": "rBrANeu0aILI"
   },
   "source": [
    "# Problem 2: Regularization and bias-variance trade-off\n"
   ]
  },
  {
   "cell_type": "markdown",
   "metadata": {
    "colab_type": "text",
    "id": "WSph6_gW-ln0"
   },
   "source": [
    "### Problem statement\n",
    "In this question we will see how regularization can be used to prevent overfitting of data and then observe the bias-variance tradeoff in a practical setting."
   ]
  },
  {
   "cell_type": "markdown",
   "metadata": {
    "colab_type": "text",
    "id": "fQPYrvfLAnSY"
   },
   "source": [
    "### Dataset generation\n",
    "- Generate 10 data points $f(x)=sin(2\\pi x)$ where $x \\hspace{0.1cm} \\epsilon \\hspace{0.1cm} [0, 1]$ is sampled uniformly.\n",
    "- Add Gaussian noise $N(0, 0.5)$ to the generated data. By generating data in this way, we are capturing a property of many real data sets - namely, that they possess an underlying regularity $f(x)$, which we wish to learn, but that individual observations are corrupted by random noise $N(0,0.5)$.\n",
    "- We will now use this set of 10 data points as the training dataset."
   ]
  },
  {
   "cell_type": "code",
   "execution_count": 6,
   "metadata": {
    "colab": {},
    "colab_type": "code",
    "id": "SZcsltnkJCue"
   },
   "outputs": [],
   "source": [
    "\n",
    "#######################                 TESTING                  ###########################################3\n",
    "\n",
    "#Generating uniformly sampled data points of a sine wave in the interval [0,1] for training\n",
    "x1 = np.linspace(0,1,10);\n",
    "x = x1.reshape(-1,1)\n",
    "y = np.sin(2*np.pi*x);\n",
    "\n",
    "#Adding Gaussian noise N(0,0.5), mean=0, variance=0.5\n",
    "mean = 0;\n",
    "variance = 0.5;\n",
    "noise = random.gauss(mean,variance);\n",
    "data = y + noise; #Training dataset \n"
   ]
  },
  {
   "cell_type": "markdown",
   "metadata": {
    "colab_type": "text",
    "id": "XjKUq1CjEXQG"
   },
   "source": [
    "### Polynomial curve fitting \n",
    "- Fit 5 polynomial regression models with varying polynomial orders $M = \\{0, 1, 3, 6, 9\\}$ on the training dataset. Use the polynomial function of the form:  $y(x, \\textbf{w})=\\sum^{M}_{j=0}w_jx^j$ and $L2$ loss as the error function: $E(\\textbf{w})= \\frac{1}{2}\\sum^{N}_{n=1}\\{y(x_n, \\textbf{w}) - t_n)\\}^2$, where $t_n$ is the true output for the input $x_n$, and $N$ is the total number of training points.\n",
    "- For each model: $M = \\{0, 1, 3, 6, 9\\}$, plot the graph of the function obtained from fitting the model onto the training dataset along with the training dataset points. \n",
    "- Report the mean squared error on the training dataset and explain its trend with increasing model complexity. Comment on overfitting and underfitting.\n",
    "- For each model: $M = \\{0, 1, 3, 6, 9\\}$, report the coefficients $\\textbf{w}^*$. Explain the trend in the coefficients with increasing model complexity. \n",
    "- The goal here is to achieve good generalization by making\n",
    "accurate predictions for new data, and not the training data. Use the data generation procedure used previously to generate 100 data points but with new choices for the random noise values included in the target values. These 100 data points will now form our validation dataset.\n",
    "- Evaluate each model: $M = \\{0, 1, 3, 6, 9\\}$ on the validation set and report the mean squared error for each model. \n",
    "- Plot the training and validation set mean squared errors for models with $M = \\{0, 1, 3, 6, 9\\}$ on the same graph. Explain the trend in the error values with increasing model complexity."
   ]
  },
  {
   "cell_type": "code",
   "execution_count": 7,
   "metadata": {
    "colab": {},
    "colab_type": "code",
    "id": "dnSZ2jAlMVCL"
   },
   "outputs": [
    {
     "name": "stdout",
     "output_type": "stream",
     "text": [
      "Visualising the plots and computing the coefficients and MSE values for training dataset\n",
      "\n",
      "\n",
      "Coeffecients for M =  0 are [[0.]]\n",
      "MSE for M =  0 is 0.45\n",
      "Coeffecients for M =  1 are [[ 0.         -1.34876164]]\n",
      "MSE for M =  1 is 0.26471539218077106\n",
      "Coeffecients for M =  3 are [[  0.          10.64664004 -31.61477883  21.07651922]]\n",
      "MSE for M =  3 is 0.006529498820893244\n",
      "Coeffecients for M =  6 are [[ 0.00000000e+00  5.65130256e+00  1.00244572e+01 -9.66237212e+01\n",
      "   1.34911125e+02 -5.39644499e+01 -2.86926038e-12]]\n",
      "MSE for M =  6 is 1.4939897681104982e-05\n",
      "Coeffecients for M =  9 are [[ 0.00000000e+00  6.27735815e+00  1.58539686e-01 -4.31219765e+01\n",
      "   1.10277430e+01  3.95696989e+01  1.03048530e+02 -2.39484331e+02\n",
      "   1.57531420e+02 -3.50069823e+01]]\n",
      "MSE for M =  9 is 1.803964652869081e-28\n"
     ]
    },
    {
     "data": {
      "image/png": "[encoded data removed]",
      "text/plain": [
       "<Figure size 432x288 with 1 Axes>"
      ]
     },
     "metadata": {
      "needs_background": "light"
     },
     "output_type": "display_data"
    },
    {
     "name": "stdout",
     "output_type": "stream",
     "text": [
      "Visualising the plots and computing the coefficients and MSE values for validation dataset\n",
      "\n",
      "\n",
      "Coeffecients for M =  0 are [[0.]]\n",
      "MSE for M =  0 is 0.49499999999999994\n",
      "Coeffecients for M =  1 are [[ 0.         -1.85269778]]\n",
      "MSE for M =  1 is 0.20318064411612644\n",
      "Coeffecients for M =  3 are [[  0.          11.81054489 -34.33032458  22.88688305]]\n",
      "MSE for M =  3 is 0.004755878143712762\n",
      "Coeffecients for M =  6 are [[ 0.00000000e+00  5.47308836e+00  1.09258029e+01 -9.86914534e+01\n",
      "   1.37111377e+02 -5.48445509e+01  5.12856424e-12]]\n",
      "MSE for M =  6 is 2.076339650899093e-05\n",
      "Coeffecients for M =  9 are [[ 0.00000000e+00  6.28134024e+00  6.55147219e-02 -4.22875021e+01\n",
      "   7.12592302e+00  5.01618680e+01  8.57450143e+01 -2.22723221e+02\n",
      "   1.48668484e+02 -3.30374408e+01]]\n",
      "MSE for M =  9 is 1.576706657961642e-11\n"
     ]
    },
    {
     "data": {
      "image/png": "[encoded data removed]",
      "text/plain": [
       "<Figure size 432x288 with 1 Axes>"
      ]
     },
     "metadata": {
      "needs_background": "light"
     },
     "output_type": "display_data"
    },
    {
     "name": "stdout",
     "output_type": "stream",
     "text": [
      "MSE versus polynomial order for training and validation data\n"
     ]
    },
    {
     "data": {
      "image/png": "[encoded data removed]",
      "text/plain": [
       "<Figure size 432x288 with 1 Axes>"
      ]
     },
     "metadata": {
      "needs_background": "light"
     },
     "output_type": "display_data"
    }
   ],
   "source": [
    "# Fitting Polynomial Regression model to the training dataset for varying polynomial orders - [0,1,3,6,9]\n",
    "\n",
    "mse = [] #The mean squared error for different models on training dataset\n",
    "M = [0,1,3,6,9]\n",
    "print('Visualising the plots and computing the coefficients and MSE values for training dataset')\n",
    "print('\\n')\n",
    "\n",
    "for degree in range(len(M)):\n",
    "    poly = PolynomialFeatures(degree = M[degree]) \n",
    "    X_poly = poly.fit_transform(x) \n",
    "    poly.fit(X_poly, data) \n",
    "    linReg = LinearRegression() \n",
    "    linReg.fit(X_poly, data) \n",
    "    \n",
    "    # Visualising the Polynomial Regression results \n",
    "    scatter(x, data, color = 'blue') \n",
    "    plot(x, linReg.predict(poly.fit_transform(x)), label= 'M = %s' % M[degree]) \n",
    "    title('Polynomial Regression') \n",
    "    xlabel('x->')\n",
    "    ylabel('sin(2*pi*x)')\n",
    "    legend()\n",
    "    \n",
    "    print('Coeffecients for M = ', M[degree] , 'are', linReg.coef_) #Returns coefficients\n",
    "    \n",
    "    mse.append(mean_squared_error(data,linReg.predict(poly.fit_transform(x)))) #Mean squared error\n",
    "    \n",
    "    print('MSE for M = ' , M[degree], 'is', mean_squared_error(linReg.predict(X_poly),data))\n",
    "    \n",
    "show() \n",
    "\n",
    "\n",
    "#######################                 VALIDATION                  ######################################3\n",
    "\n",
    "#Generating uniformly sampled data points of a sine wave in the interval [0,1] for validation\n",
    "x1_valid = np.linspace(0,1,100);\n",
    "x_valid = x1_valid.reshape(-1,1)\n",
    "y_valid = np.sin(2*np.pi*x_valid);\n",
    "\n",
    "#Adding Gaussian noise \n",
    "mean_valid = 0;\n",
    "variance_valid = 5;\n",
    "noise_valid = random.gauss(mean_valid,variance_valid);\n",
    "data_valid = y_valid + noise_valid; #Validation dataset\n",
    "\n",
    "# Fitting Polynomial Regression model to the validation dataset for varying polynomial orders - [0,1,3,6,9]\n",
    "\n",
    "mse_valid = [] #The mean squared error for different models on training dataset\n",
    "\n",
    "print('Visualising the plots and computing the coefficients and MSE values for validation dataset')\n",
    "print('\\n')\n",
    "\n",
    "scatter(x_valid, data_valid, color = 'blue') \n",
    "\n",
    "for degree in range(len(M)):\n",
    "    poly_valid = PolynomialFeatures(degree = M[degree]) \n",
    "    X_poly_valid = poly_valid.fit_transform(x_valid) \n",
    "    poly_valid.fit(X_poly_valid, data_valid) \n",
    "    linReg_valid = LinearRegression() \n",
    "    linReg_valid.fit(X_poly_valid, data_valid) \n",
    "    \n",
    "    # Visualising the Polynomial Regression results \n",
    "    plot(x_valid, linReg_valid.predict(poly_valid.fit_transform(x_valid)), label= 'M = %s' % M[degree]) \n",
    "    title('Polynomial Regression') \n",
    "    xlabel('x->')\n",
    "    ylabel('sin(2*pi*x)')\n",
    "    legend()\n",
    "    \n",
    "    print('Coeffecients for M = ', M[degree] , 'are', linReg_valid.coef_) #Returns coefficients\n",
    "    \n",
    "    mse_valid.append(mean_squared_error(data_valid,linReg_valid.predict(poly_valid.fit_transform(x_valid)))) #Mean squared error\n",
    "    \n",
    "    print('MSE for M = ' , M[degree], 'is', mean_squared_error(linReg_valid.predict(X_poly_valid),data_valid))\n",
    "    \n",
    "show() \n",
    "\n",
    "#Plotting MSE of validation and test data versus degree of polynomial\n",
    "print('MSE versus polynomial order for training and validation data')\n",
    "plot(M,mse,label =\"Training dataset\")\n",
    "plot(M,mse_valid,label=\"Validation dataset\")\n",
    "legend()\n",
    "show()\n",
    "\n"
   ]
  },
  {
   "cell_type": "markdown",
   "metadata": {
    "colab_type": "text",
    "id": "gFM6HWgnACG8"
   },
   "source": [
    "### Regularization\n",
    "\n",
    "We've seen the effects of increasing model complexity on the training error and the validation error above. We will now use L2 regularization to reduce overfitting.\n",
    "\n",
    "- Fit a polynomial regression model of order $M=9$ to the same training dataset as before but now using the regularized error function given by $E^{'}(\\textbf{w})= \\frac{1}{2}\\sum^{N}_{n=1}\\{y(x_n, \\textbf{w}) - t_n)\\}^2 + \\frac{\\lambda}{2}{\\|\\textbf{w}\\|}^2$ where $\\lambda$ is the regularization hyperparameter. Use the following values for $\\lambda$: $\\lambda={0.01, 0.1, 1}$.\n",
    "- Report the coefficients of the model fit above for $\\lambda={0.01, 0.1, 1}$. Explain the trend in the coefficient values with increasing $\\lambda$.\n",
    "- Find the optimal value of the hyperparameter $\\lambda$. \n",
    "- Compare the validation error results of the following two models : polynomial regression model of order $M=9$ without regularization and polynomial regression model of order $M=9$ with regularization hyperparameter as estimated above."
   ]
  },
  {
   "cell_type": "code",
   "execution_count": 8,
   "metadata": {
    "colab": {},
    "colab_type": "code",
    "id": "k1FWv1E-MWVS"
   },
   "outputs": [
    {
     "name": "stdout",
     "output_type": "stream",
     "text": [
      "Fitting Polynomial Regression model of degree 9 to the dataset \n",
      "Coeffecients for lambda =  0.01 are [[ 0.          1.72771505 -3.77712234 -2.35206693 -0.46221987  0.72507717\n",
      "   1.21559476  1.21459546  0.90830917  0.42993793]]\n",
      "MSE for lambda =  0.01 is 0.0702053152314708\n",
      "Coeffecients for lambda =  0.1 are [[ 0.         -0.375636   -1.2769639  -0.93882244 -0.43702675 -0.01186367\n",
      "   0.30511762  0.53051373  0.68726893  0.79477678]]\n",
      "MSE for lambda =  0.1 is 0.13147667463147145\n",
      "Coeffecients for lambda =  1 are [[ 0.         -0.44234607 -0.43664327 -0.29081413 -0.14782125 -0.03255276\n",
      "   0.05585577  0.12293096  0.17396651  0.21311625]]\n",
      "MSE for lambda =  1 is 0.24489773383839664\n"
     ]
    },
    {
     "data": {
      "image/png": "[encoded data removed]",
      "text/plain": [
       "<Figure size 432x288 with 1 Axes>"
      ]
     },
     "metadata": {
      "needs_background": "light"
     },
     "output_type": "display_data"
    },
    {
     "name": "stdout",
     "output_type": "stream",
     "text": [
      "The optimal value of hyperparameter lamda is 1\n"
     ]
    },
    {
     "data": {
      "image/png": "[encoded data removed]",
      "text/plain": [
       "<Figure size 432x288 with 1 Axes>"
      ]
     },
     "metadata": {
      "needs_background": "light"
     },
     "output_type": "display_data"
    },
    {
     "name": "stdout",
     "output_type": "stream",
     "text": [
      "MSE for M = 9 (after regularisation) is 0.10830308910855672\n",
      "MSE for M = 9 (without regularisation) is 1.576706657961642e-11\n"
     ]
    }
   ],
   "source": [
    "lamda = [0.01,0.1,1]\n",
    "\n",
    "print('Fitting Polynomial Regression model of degree 9 to the dataset ')\n",
    "for i in range(len(lamda)):\n",
    "    # Fitting Polynomial Regression model of degree 9 to the dataset \n",
    "    poly = PolynomialFeatures(degree = 9) #degree =[0,1,3,6,9]\n",
    "    X_poly = poly.fit_transform(x) #fit the data, then transform it\n",
    "    poly.fit(X_poly, data) #computes the number of output features\n",
    "    lin2 = Ridge(alpha = lamda[i]).fit(X_poly, data) \n",
    "\n",
    "    # Visualising the Polynomial Regression results \n",
    "    scatter(x, data, color = 'blue') \n",
    "    plot(x, lin2.predict(poly.fit_transform(x)), label = \"lambda = %s\" % lamda[i]) \n",
    "    title('Polynomial Regression') \n",
    "    xlabel('x->')\n",
    "    ylabel('sin(2*pi*x)')\n",
    "    legend()\n",
    "    \n",
    "    print('Coeffecients for lambda = ', lamda[i] , 'are', lin2.coef_) #Returns coefficients\n",
    "    \n",
    "    print('MSE for lambda = ' , lamda[i], 'is', mean_squared_error(lin2.predict(X_poly),data))\n",
    "    \n",
    "show() \n",
    "\n",
    "#Following loop aims to compute the best value of hyperparameter lamba\n",
    "mse_testlamda = []\n",
    "test_lamda = range(-10,10)\n",
    "for i in test_lamda:\n",
    "    poly = PolynomialFeatures(degree = 9) #degree =[0,1,3,6,9]\n",
    "    X_poly = poly.fit_transform(x) #fit the data, then transform it\n",
    "    poly.fit(X_poly, data) #computes the number of output features\n",
    "    lin2 = Ridge(alpha = test_lamda[i]).fit(X_poly, data) \n",
    "    mse_testlamda.append( mean_squared_error(lin2.predict(X_poly),data) )\n",
    "    #print('MSE for lambda = ' , test_lamda[i], 'is', mean_squared_error(lin2.predict(X_poly),data))\n",
    "    ## Uncomment the above line if needed \n",
    "\n",
    "def minimum(a, n):  \n",
    "    minpos = a.index(min(a))        \n",
    "    opt_lamda = minpos + 1\n",
    "    print( \"The optimal value of hyperparameter lamda is\", opt_lamda)\n",
    "    return opt_lamda\n",
    "     \n",
    "opt_lamda = minimum(mse_testlamda, len(mse_testlamda))\n",
    "\n",
    "#####################################         VALIDATION           ##############################################\n",
    "\n",
    "#Using the optimal value of the hyperparameter, we now compute the mean squared error for a polynomial fit with degree 9\n",
    "\n",
    "poly_valid = PolynomialFeatures(degree = 9) \n",
    "X_poly_valid = poly_valid.fit_transform(x_valid) \n",
    "poly_valid.fit(X_poly_valid, data_valid) \n",
    "linRidge = Ridge(alpha = opt_lamda).fit(X_poly_valid, data_valid) \n",
    "\n",
    "# Visualising the Polynomial Regression results \n",
    "scatter(x_valid, data_valid, color = 'blue') \n",
    "plot(x_valid, linRidge.predict(poly_valid.fit_transform(x_valid)), label= 'M = %s' % M[degree]) \n",
    "title('Polynomial Regression') \n",
    "xlabel('x->')\n",
    "ylabel('sin(2*pi*x)')\n",
    "legend()\n",
    "show()\n",
    "\n",
    "print('MSE for M = 9 (after regularisation) is', mean_squared_error(linRidge.predict(X_poly_valid),data_valid))\n",
    "print('MSE for M = 9 (without regularisation) is', mse_valid[4])\n"
   ]
  },
  {
   "cell_type": "markdown",
   "metadata": {
    "colab_type": "text",
    "id": "9BwLU1odIi45"
   },
   "source": [
    "### Bias-variance trade-off:\n",
    "\n",
    "In class you have seen that the expected prediction error for any model can be decomposed as the sum of $bias^2, variance$ and $irreducible\\,noise$. We will now observe the bias-variance trade-off for a polynomial regression model of order $M=9$ with varying regularization hyperparameter.\n",
    "- Generate $50$ datasets, each containing $10$ points, independently, from the curve $f(x)=sin(2\\pi x)$. Add gaussian noise $N(0,0.5)$ to each data point.\n",
    "- Fit a polynomial regression model of order $M=9$ to each training dataset by minimizing the regularized error function $E^{'}(\\textbf{w})$ with $\\lambda=1$.\n",
    "- Plot the following:\n",
    "  - function obtained by training the model on each of the 50 datasets in the same figure.\n",
    "  - The corresponding average of the 50 fits and the sinusoidal function from which the datasets were generated in the same figure.\n",
    "- Repeat this exercise for two more $\\lambda$ values: $\\lambda$ = 0.1, 10.\n",
    "- Based on the plots obtained, explain the trend in the bias and variance values with increasing model complexity.\n",
    "- Bonus (optional and will not be graded) : \n",
    "  - Plot the $bias^2$, $variance$  and $bias^2 + variance$ against $\\lambda$.\n",
    "  - Also plot the average test error on a test data size of 1000 points (generated in a similiar way as the 50 training datasets, but independently) against $\\lambda$ on the same figure.\n",
    "  - For your reference: \n",
    "$$\n",
    "Bias^2= (E_{D}[\\hat f(x)] - f(x))^2\n",
    "\\\\\n",
    "Variance = E_{D}[(\\hat f(x) - E_{D}[\\hat f(x)])^2]\n",
    "$$\n",
    "Here $\\hat f$ is the trained model and $D$ is the set of all datasets. Use the $50$ training datasets to compute the empirical estimations."
   ]
  },
  {
   "cell_type": "code",
   "execution_count": 9,
   "metadata": {
    "colab": {},
    "colab_type": "code",
    "id": "YFYqiOEZNMuv"
   },
   "outputs": [
    {
     "data": {
      "image/png": "[encoded data removed]",
      "text/plain": [
       "<Figure size 432x288 with 1 Axes>"
      ]
     },
     "metadata": {
      "needs_background": "light"
     },
     "output_type": "display_data"
    },
    {
     "data": {
      "image/png": "[encoded data removed]",
      "text/plain": [
       "<Figure size 432x288 with 1 Axes>"
      ]
     },
     "metadata": {
      "needs_background": "light"
     },
     "output_type": "display_data"
    },
    {
     "data": {
      "image/png": "[encoded data removed]",
      "text/plain": [
       "<Figure size 432x288 with 1 Axes>"
      ]
     },
     "metadata": {
      "needs_background": "light"
     },
     "output_type": "display_data"
    }
   ],
   "source": [
    "#Generating 500 sine wave samples (uniformly spaced between 0 to 1)\n",
    "\n",
    "x1 = np.linspace(0,1,500);\n",
    "y1 = np.sin(2*np.pi*x1);\n",
    "xT = x1.reshape(-1,1)\n",
    "\n",
    "#The question requires us to generate 50 datasets with 10 points each. So, from the 500 generated points generated \n",
    "#above, we will randomly partition them into a list of arrays, each array of size 10 and 50 such arrays arranged as a list\n",
    "\n",
    "def partition (list_in, n):\n",
    "    random.shuffle(list_in)\n",
    "    return [list_in[i::n] for i in range(n)]\n",
    "\n",
    "xT = partition(xT,50) #50x10 array\n",
    "y = np.zeros((50,10))\n",
    "\n",
    "for i in range(len(xT)):\n",
    "    for j in range(10):\n",
    "        y[i][j] = np.sin(2*np.pi*xT[i][j])\n",
    "\n",
    "#Adding Gaussian noise N(0,0.5), mean=0, variance=0.5\n",
    "mean = 0;\n",
    "variance = 0.5;\n",
    "noise = random.gauss(mean,variance);\n",
    "dataT = y + noise; #Training dataset\n",
    "\n",
    "#To fit the average of 50 datasets, we will use the following \n",
    "pol = np.ones((50,10)) #polynomial coefficients obtained on fitting data\n",
    "Ax = np.linspace(0,1,100) #set of data points that will be used as validation data \n",
    "Ay = Ax.shape[0]\n",
    "\n",
    "# Fitting Polynomial Regression model of degree 9 to the dataset\n",
    "for j in range(len(lamda)):\n",
    "    for i in range(len(xT)):\n",
    "        polyT = PolynomialFeatures(degree = 9) #degree =[0,1,3,6,9]\n",
    "        X_polyT = polyT.fit_transform(xT[i]) #fit the data, then transform it\n",
    "        c = polyT.fit(X_polyT, dataT[i]) #computes the number of output features\n",
    "        lin2 = Ridge(alpha = lamda[j]).fit(X_polyT, dataT[i]) \n",
    "\n",
    "        # Visualising the Polynomial Regression results \n",
    "        scatter(xT[i], dataT[i]) \n",
    "        plot( xT[i], lin2.predict(X_polyT)) \n",
    "        \n",
    "        temp1 = []\n",
    "        temp2 = []\n",
    "        for k in range(10):\n",
    "            temp1.append(xT[i][k][0])\n",
    "            temp2.append(dataT[i][k])\n",
    "        pol[i] = np.polyfit(temp1,temp2,9)      \n",
    "        \n",
    "        Ay += np.polyval(pol[i], Ax)\n",
    "        \n",
    "    Ay = Ay/50\n",
    "    plot(Ax,Ay,label=\"Average curve for lamda = %s\" % lamda[j])\n",
    "    legend()\n",
    "    show()\n",
    "\n"
   ]
  },
  {
   "cell_type": "markdown",
   "metadata": {
    "colab_type": "text",
    "id": "0akOo4P-EjhV"
   },
   "source": [
    "#Problem 3: Logistic Regression"
   ]
  },
  {
   "cell_type": "markdown",
   "metadata": {
    "colab_type": "text",
    "id": "WL1ZH-z8YwuE"
   },
   "source": [
    "## Binary Logistic Regression\n",
    "\n",
    "Logistic regression is a classification algorithm used to assign observations to a discrete set of classes. Unlike linear regression which outputs continuous number values, logistic regression transforms its output using the logistic **sigmoid function** $h_ \\theta (\\cdot)$ to return a probability value which can then be mapped to two or more discrete classes. $$ h_ \\theta (x) =  \\frac{\\mathrm{1} }{\\mathrm{1} + e^{- \\theta^Tx} }  $$ \n",
    "\n",
    "<br>here, the vector $\\theta$ represents the weights and the vector $x$ represents the given inputs.\n"
   ]
  },
  {
   "cell_type": "markdown",
   "metadata": {
    "colab_type": "text",
    "id": "zxGXZkGXbnmJ"
   },
   "source": [
    "## Problem 3, Part A: Dataset A\n"
   ]
  },
  {
   "cell_type": "markdown",
   "metadata": {
    "colab_type": "text",
    "id": "-ndfkwa2WD58"
   },
   "source": [
    "\n",
    "Use Dataset A (``data_prob3_parta.csv``) for this part of the question. The given CSV file has three columns: column 1 is the first input feature, column 2 is the second input feature and column 3 is the output label. Split the dataset into training data (75%) and testing data (25%) randomly.\n"
   ]
  },
  {
   "cell_type": "code",
   "execution_count": 10,
   "metadata": {
    "colab": {},
    "colab_type": "code",
    "id": "fiGqCdCYNfwN"
   },
   "outputs": [],
   "source": [
    "#Splitting data into training and test data randomly \n",
    "df = pd.read_csv('data_prob3_parta.csv')\n",
    "rng = RandomState()\n",
    "train = df.sample(frac=0.75, random_state=rng)\n",
    "test = df.loc[~df.index.isin(train.index)]\n",
    "\n",
    "#Input values \n",
    "x_train = train.iloc[:,[0,1]].values;\n",
    "y_train = train.iloc[:,2].values;\n",
    "x_test = test.iloc[:,[0,1]].values;\n",
    "y_test = test.iloc[:,2].values;\n",
    "\n",
    "#Normalisation of dataset points\n",
    "sc = StandardScaler()\n",
    "x_train = sc.fit_transform(x_train)\n",
    "x_test = sc.transform(x_test)\n"
   ]
  },
  {
   "cell_type": "markdown",
   "metadata": {
    "colab_type": "text",
    "id": "VmDzqj1JcUXJ"
   },
   "source": [
    "Visualize the training data with a scatter plot (input feature 1 on the X axis, input feature 2 on the Y axis and color the points according to their labels)."
   ]
  },
  {
   "cell_type": "code",
   "execution_count": 11,
   "metadata": {
    "colab": {},
    "colab_type": "code",
    "id": "khVm1XXAcUgX"
   },
   "outputs": [
    {
     "data": {
      "image/png": "[encoded data removed]",
      "text/plain": [
       "<Figure size 432x288 with 1 Axes>"
      ]
     },
     "metadata": {
      "needs_background": "light"
     },
     "output_type": "display_data"
    }
   ],
   "source": [
    "datalabel_10 = [];\n",
    "datalabel_20 = [];\n",
    "datalabel_11 = [];\n",
    "datalabel_21 = [];\n",
    "\n",
    "for i in range(len(y_train)):\n",
    "    if y_train[i] == 0.0:\n",
    "        datalabel_10.append(x_train[i,0]);\n",
    "        datalabel_20.append(x_train[i,1]);\n",
    "    else:\n",
    "        datalabel_11.append(x_train[i,0]);\n",
    "        datalabel_21.append(x_train[i,1]);\n",
    "\n",
    "figure()\n",
    "scatter(datalabel_10, datalabel_20,color='k',label=\"Y=0\")\n",
    "scatter(datalabel_11, datalabel_21,color='m',label=\"Y=1\")\n",
    "title('Scatter plot of training data')\n",
    "ylabel('Input feature 2')\n",
    "xlabel('Input feature 1')\n",
    "legend()\n",
    "show()\n"
   ]
  },
  {
   "cell_type": "markdown",
   "metadata": {
    "colab_type": "text",
    "id": "HeFBBGBIcUo0"
   },
   "source": [
    "Build the logistic regression model using the training data. \n",
    "\n",
    "The scikit library can be used to build the model. Bonus marks will be awarded if the model is built from scratch without using any external libraries. If you are writing your own implementation, try to keep number of features and number of classes as variables for next parts."
   ]
  },
  {
   "cell_type": "code",
   "execution_count": 12,
   "metadata": {
    "colab": {},
    "colab_type": "code",
    "id": "Tf2Fu0sccUw_"
   },
   "outputs": [],
   "source": [
    "#Appending a column of 1s to the training and test data to keep up with dimensional consistency\n",
    "# theta_0 multiplies with x_0 = 1\n",
    "\n",
    "x_train = np.hstack((np.matrix(np.ones(x_train.shape[0])).T, x_train))\n",
    "x_test = np.hstack((np.matrix(np.ones(x_test.shape[0])).T, x_test))\n",
    "theta = np.matrix(np.zeros(x_train.shape[1])) #weights\n",
    "\n",
    "#Implementing logistic regression from scratch (using gradient descent)\n",
    "\n",
    "#The following function is a sigmoid function which returns a value between 0 and 1\n",
    "def sigmoid(theta, X): \n",
    "    return 1.0/(1 + np.exp(-np.dot(X, theta.T))) \n",
    "\n",
    "def log_gradient(theta, x, y): \n",
    "    a = sigmoid(theta, x) - y.reshape(x.shape[0], -1) \n",
    "    b = np.dot(a.T, x) \n",
    "    return b \n",
    "\n",
    "#The following fucntion is the cost function that needs to be minimised\n",
    "def cost_func(theta, x, y): \n",
    "    log_func = sigmoid(theta, x) \n",
    "    y = np.squeeze(y) \n",
    "    a = y * np.log(log_func) \n",
    "    b = (1 - y) * np.log(1 - log_func) \n",
    "    final = -a - b \n",
    "    return np.mean(final)\n",
    "\n",
    "#Predicting labels of a given x\n",
    "def pred_values(theta, x): \n",
    "    pred_prob = sigmoid(theta, x) \n",
    "    pred_value = np.where(pred_prob >= .5, 1, 0) \n",
    "    return np.squeeze(pred_value)\n",
    "\n",
    "#GDA\n",
    "def gradient_descent(x, y, theta):\n",
    "    alpha = 0.01\n",
    "    converge_change=0.001\n",
    "    cost = cost_func(theta, x, y) \n",
    "    change_cost = 1\n",
    "    num_iter = 1 \n",
    "    while(change_cost > converge_change): \n",
    "        old_cost = cost \n",
    "        theta = theta - (alpha * log_gradient(theta, x, y)) \n",
    "        cost = cost_func(theta, x, y) \n",
    "        change_cost = old_cost - cost \n",
    "        num_iter += 1\n",
    "    return theta, num_iter  \n",
    "\n",
    "#Plotting the test data points and decision boundary\n",
    "def plot_reg(x, y, theta):\n",
    "    # labelled observations \n",
    "    x_0 = x[np.where(y == 0.0)] \n",
    "    x_1 = x[np.where(y == 1.0)] \n",
    "      \n",
    "    # plotting points with diff color for diff label \n",
    "    scatter([x_0[:, 1]], [x_0[:, 2]], c='k', label='y = 0') \n",
    "    scatter([x_1[:, 1]], [x_1[:, 2]], c='m', label='y = 1') \n",
    "    \n",
    "    title('Test data classification')\n",
    "    ylabel('Input feature 2')\n",
    "    xlabel('Input feature 1')\n",
    "    legend()\n",
    "    \n",
    "    # plotting decision boundary \n",
    "    x1 = np.arange(-2, 3, 0.1) \n",
    "    x2 = -(theta[0,0] + theta[0,1]*x1)/theta[0,2] \n",
    "    plot(x1, x2, c='r', label='Decision boundary') \n",
    "    legend() \n",
    "    show() \n",
    "\n",
    "############################      Logistic regression model using scikit library       ###########################\n",
    " \n",
    "classifier = LogisticRegression(random_state = 0).fit(x_train, y_train) \n"
   ]
  },
  {
   "cell_type": "markdown",
   "metadata": {
    "colab_type": "text",
    "id": "vvsbHz1kiv_Q"
   },
   "source": [
    "Print the final weights."
   ]
  },
  {
   "cell_type": "code",
   "execution_count": 13,
   "metadata": {
    "colab": {},
    "colab_type": "code",
    "id": "0KUYqTxbiv_c"
   },
   "outputs": [
    {
     "name": "stdout",
     "output_type": "stream",
     "text": [
      "The weights are [[ 0.30387138  0.9293756  -2.97231359]]\n",
      "The number of epochs are 35\n"
     ]
    }
   ],
   "source": [
    "theta, num_iter = gradient_descent(x_train, y_train, theta)\n",
    "print('The weights are', theta)\n",
    "print('The number of epochs are',num_iter)\n"
   ]
  },
  {
   "cell_type": "markdown",
   "metadata": {
    "colab_type": "text",
    "id": "7FlYHEoOcU4l"
   },
   "source": [
    "Print the final accuracy on test data."
   ]
  },
  {
   "cell_type": "code",
   "execution_count": 14,
   "metadata": {
    "colab": {},
    "colab_type": "code",
    "id": "L_xid_OfcVAq"
   },
   "outputs": [
    {
     "name": "stdout",
     "output_type": "stream",
     "text": [
      "Accuracy (implementation from scratch) 0.9653333333333334\n",
      "Accuracy obtained using scikit library  0.9653333333333334\n"
     ]
    }
   ],
   "source": [
    "y_pred = pred_values(theta, x_test)\n",
    "num_correct_preds = np.sum(y_pred == y_test)\n",
    "accuracy = num_correct_preds/len(y_test);\n",
    "print(\"Accuracy (implementation from scratch)\" , accuracy)\n",
    "\n",
    "y_pred = classifier.predict(x_test) \n",
    "print (\"Accuracy obtained using scikit library \", accuracy_score(y_test, y_pred)) \n"
   ]
  },
  {
   "cell_type": "markdown",
   "metadata": {
    "colab_type": "text",
    "id": "bVPSgR9fcVKR"
   },
   "source": [
    "Plot the scatter plot on test data. On top of this scatter plot, plot the decision boundaries."
   ]
  },
  {
   "cell_type": "code",
   "execution_count": 15,
   "metadata": {
    "colab": {},
    "colab_type": "code",
    "id": "FcjT9KBbcVSG"
   },
   "outputs": [
    {
     "data": {
      "image/png": "[encoded data removed]",
      "text/plain": [
       "<Figure size 432x288 with 1 Axes>"
      ]
     },
     "metadata": {
      "needs_background": "light"
     },
     "output_type": "display_data"
    }
   ],
   "source": [
    "plot_reg(x_test, y_test, theta) #Plotting test data"
   ]
  },
  {
   "cell_type": "markdown",
   "metadata": {
    "colab_type": "text",
    "id": "HCAFmjmFd2U0"
   },
   "source": [
    "## Problem 3, Part B: Dataset B\n"
   ]
  },
  {
   "cell_type": "markdown",
   "metadata": {
    "colab_type": "text",
    "id": "ZA_bKTy8eEgR"
   },
   "source": [
    "\n",
    "Use Dataset B (``data_prob3_partb.csv``) for this part of the question. The given CSV file has three columns: column 1 is the first input feature, column 2 is the second input feature and column 3 is the output label. Split the dataset into training data (75%) and testing data (25%) randomly.\n"
   ]
  },
  {
   "cell_type": "code",
   "execution_count": 16,
   "metadata": {
    "colab": {},
    "colab_type": "code",
    "id": "W-yUXlVZeEgn"
   },
   "outputs": [],
   "source": [
    "#Splitting data into training and test data\n",
    "df = pd.read_csv('data_prob3_partb.csv')\n",
    "rng = RandomState()\n",
    "train = df.sample(frac=0.75, random_state=rng)\n",
    "test = df.loc[~df.index.isin(train.index)]\n",
    "\n",
    "#Input values \n",
    "x_train = train.iloc[:,[0,1]].values;\n",
    "y_train = train.iloc[:,2].values;\n",
    "x_test = test.iloc[:,[0,1]].values;\n",
    "y_test = test.iloc[:,2].values;\n",
    "\n",
    "#Normalisation of dataset points\n",
    "sc = StandardScaler()\n",
    "x_train = sc.fit_transform(x_train)\n",
    "x_test = sc.transform(x_test)"
   ]
  },
  {
   "cell_type": "markdown",
   "metadata": {
    "colab_type": "text",
    "id": "H3ulzUFCeEhU"
   },
   "source": [
    "Visualize the training data with a scatter plot (input feature 1 on the X axis, input feature 2 on the Y axis and color the points according to their labels)."
   ]
  },
  {
   "cell_type": "code",
   "execution_count": 17,
   "metadata": {
    "colab": {},
    "colab_type": "code",
    "id": "vzQpZl0beEhi"
   },
   "outputs": [
    {
     "data": {
      "image/png": "[encoded data removed]",
      "text/plain": [
       "<Figure size 432x288 with 1 Axes>"
      ]
     },
     "metadata": {
      "needs_background": "light"
     },
     "output_type": "display_data"
    }
   ],
   "source": [
    "datalabel_10 = [];\n",
    "datalabel_20 = [];\n",
    "datalabel_11 = [];\n",
    "datalabel_21 = [];\n",
    "\n",
    "for i in range(len(y_train)):\n",
    "    if y_train[i] == 0.0:\n",
    "        datalabel_10.append(x_train[i,0]);\n",
    "        datalabel_20.append(x_train[i,1]);\n",
    "    else:\n",
    "        datalabel_11.append(x_train[i,0]);\n",
    "        datalabel_21.append(x_train[i,1]);\n",
    "\n",
    "figure()\n",
    "scatter(datalabel_10, datalabel_20,color='k')\n",
    "scatter(datalabel_11, datalabel_21,color='m')\n",
    "show()"
   ]
  },
  {
   "cell_type": "markdown",
   "metadata": {
    "colab_type": "text",
    "id": "2QOjHNDZeEiA"
   },
   "source": [
    "Build the logistic regression model using the training data. The scikit library can be used to build the model. Bonus marks will be awarded if the model is built from scratch without using any external libraries."
   ]
  },
  {
   "cell_type": "code",
   "execution_count": 18,
   "metadata": {
    "colab": {},
    "colab_type": "code",
    "id": "bHT1ErZzeEiM"
   },
   "outputs": [],
   "source": [
    "#Appending a column of 1s to the training and test data to keep up with dimensional consistency\n",
    "# theta_0 multiplies with x_0 = 1\n",
    "\n",
    "x_train = np.hstack((np.matrix(np.ones(x_train.shape[0])).T, x_train))\n",
    "x_test = np.hstack((np.matrix(np.ones(x_test.shape[0])).T, x_test))\n",
    "theta = np.matrix(np.zeros(x_train.shape[1])) #weights\n",
    "\n",
    "#Implementing logistic regression from scratch (using gradient descent)\n",
    "\n",
    "#The following function is a sigmoid function which returns a value between 0 and 1\n",
    "def sigmoid(theta, X): \n",
    "    return 1.0/(1 + np.exp(-np.dot(X, theta.T))) \n",
    "\n",
    "def log_gradient(theta, x, y): \n",
    "    a = sigmoid(theta, x) - y.reshape(x.shape[0], -1) \n",
    "    b = np.dot(a.T, x) \n",
    "    return b \n",
    "\n",
    "#The following function is the cost function that needs to be minimised\n",
    "def cost_func(theta, x, y): \n",
    "    log_func = sigmoid(theta, x) \n",
    "    y = np.squeeze(y) \n",
    "    a = y * np.log(log_func) \n",
    "    b = (1 - y) * np.log(1 - log_func) \n",
    "    final = -a - b \n",
    "    return np.mean(final)\n",
    "\n",
    "#Predicting labels of a given x\n",
    "def pred_values(theta, x): \n",
    "    pred_prob = sigmoid(theta, x) \n",
    "    pred_value = np.where(pred_prob >= .5, 1, 0) \n",
    "    return np.squeeze(pred_value)\n",
    "\n",
    "#GDA\n",
    "def gradient_descent(x, y, theta):\n",
    "    alpha= 0.01\n",
    "    converge_change=0.001\n",
    "    cost = cost_func(theta, x, y) \n",
    "    change_cost = 1\n",
    "    num_iter = 1 \n",
    "    while(change_cost > converge_change): \n",
    "        old_cost = cost \n",
    "        theta = theta - (alpha * log_gradient(theta, x, y)) \n",
    "        cost = cost_func(theta, x, y) \n",
    "        change_cost = old_cost - cost \n",
    "        num_iter += 1\n",
    "    return theta, num_iter  \n",
    "\n",
    "#Plotting the test data points and decision boundary\n",
    "def plot_reg(x, y, theta):\n",
    "    # labelled observations \n",
    "    x_0 = x[np.where(y == 0.0)] \n",
    "    x_1 = x[np.where(y == 1.0)] \n",
    "      \n",
    "    # plotting points with diff color for diff label \n",
    "    scatter([x_0[:, 1]], [x_0[:, 2]], c='k', label='y = 0') \n",
    "    scatter([x_1[:, 1]], [x_1[:, 2]], c='m', label='y = 1') \n",
    "    \n",
    "    title('Test data classification')\n",
    "    ylabel('Input feature 2')\n",
    "    xlabel('Input feature 1')\n",
    "    legend()\n",
    "    \n",
    "    # plotting decision boundary \n",
    "    x1 = np.arange(-2, 3, 0.1) \n",
    "    x2 = -(theta[0,0] + theta[0,1]*x1)/theta[0,2] \n",
    "    plot(x1, x2, c='r', label='Decision boundary') \n",
    "    legend() \n",
    "    show() \n",
    "\n",
    "############################      Logistic regression model using scikit library       ###########################\n",
    "\n",
    "classifier = LogisticRegression(random_state = 0).fit(x_train, y_train) \n"
   ]
  },
  {
   "cell_type": "markdown",
   "metadata": {
    "colab_type": "text",
    "id": "sRv3J0eXiuyU"
   },
   "source": [
    "Print the final weights."
   ]
  },
  {
   "cell_type": "code",
   "execution_count": 19,
   "metadata": {
    "colab": {},
    "colab_type": "code",
    "id": "L3_bJwqLiuyi"
   },
   "outputs": [
    {
     "name": "stdout",
     "output_type": "stream",
     "text": [
      "The weights are [[ 0.05576348  1.10141595 -2.60739481]]\n",
      "The number of epochs are 19\n"
     ]
    }
   ],
   "source": [
    "theta, num_iter = gradient_descent(x_train, y_train, theta)\n",
    "print('The weights are', theta)\n",
    "print('The number of epochs are',num_iter)\n",
    "THETA = theta #will be used in part(c)"
   ]
  },
  {
   "cell_type": "markdown",
   "metadata": {
    "colab_type": "text",
    "id": "6s7BCmFueEik"
   },
   "source": [
    "Print the final accuracy on test data."
   ]
  },
  {
   "cell_type": "code",
   "execution_count": 20,
   "metadata": {
    "colab": {},
    "colab_type": "code",
    "id": "nQUaA0OPeEis"
   },
   "outputs": [
    {
     "name": "stdout",
     "output_type": "stream",
     "text": [
      "Accuracy (implementation from scratch) 0.8666666666666667\n",
      "Accuracy obtained using scikit library  0.8666666666666667\n"
     ]
    }
   ],
   "source": [
    "y_pred = pred_values(theta, x_test)\n",
    "num_correct_preds = np.sum(y_pred == y_test)\n",
    "accuracy = num_correct_preds/len(y_test);\n",
    "print(\"Accuracy (implementation from scratch)\" , accuracy)\n",
    "\n",
    "y_pred = classifier.predict(x_test) \n",
    "print (\"Accuracy obtained using scikit library \", accuracy_score(y_test, y_pred))"
   ]
  },
  {
   "cell_type": "markdown",
   "metadata": {
    "colab_type": "text",
    "id": "m3mccmiHeEi8"
   },
   "source": [
    "Plot the scatter plot on test data. On top of this scatter plot, plot the decision boundaries."
   ]
  },
  {
   "cell_type": "code",
   "execution_count": 21,
   "metadata": {
    "colab": {},
    "colab_type": "code",
    "id": "et2I-cU5eEjH"
   },
   "outputs": [
    {
     "data": {
      "image/png": "[encoded data removed]",
      "text/plain": [
       "<Figure size 432x288 with 1 Axes>"
      ]
     },
     "metadata": {
      "needs_background": "light"
     },
     "output_type": "display_data"
    }
   ],
   "source": [
    "plot_reg(x_test, y_test, theta) #Plotting test data"
   ]
  },
  {
   "cell_type": "markdown",
   "metadata": {
    "colab_type": "text",
    "id": "jNOuPeBuemS2"
   },
   "source": [
    "As you can see, a straight line is not the best decision boundary for this type of data. In the next part, we will try polynomial feature mapping to generate more features and build the classifier on top of it."
   ]
  },
  {
   "cell_type": "markdown",
   "metadata": {
    "colab_type": "text",
    "id": "ciF6EYBIeciU"
   },
   "source": [
    "## Problem 3, Part C: Polynomial Feature Mapping\n"
   ]
  },
  {
   "cell_type": "markdown",
   "metadata": {
    "colab_type": "text",
    "id": "mdqHppFWecis"
   },
   "source": [
    "\n",
    "Use Dataset B (``data_prob3_partb.csv``) for this part of the question.\n"
   ]
  },
  {
   "cell_type": "code",
   "execution_count": 22,
   "metadata": {
    "colab": {},
    "colab_type": "code",
    "id": "5A7KCyZYecjB"
   },
   "outputs": [],
   "source": [
    "#Splitting data into training and test data\n",
    "df = pd.read_csv('data_prob3_partb.csv')\n",
    "rng = RandomState()\n",
    "train = df.sample(frac=0.75, random_state=rng)\n",
    "test = df.loc[~df.index.isin(train.index)]\n",
    "\n",
    "#Input values \n",
    "x_train = train.iloc[:,[0,1]].values;\n",
    "y_train = train.iloc[:,2].values;\n",
    "x_test = test.iloc[:,[0,1]].values;\n",
    "y_test = test.iloc[:,2].values;\n",
    "\n",
    "#Normalisation of the dataset\n",
    "sc = StandardScaler()\n",
    "x_train = sc.fit_transform(x_train)\n",
    "x_test = sc.transform(x_test)"
   ]
  },
  {
   "cell_type": "markdown",
   "metadata": {
    "colab_type": "text",
    "id": "ebLzYBYAecjy"
   },
   "source": [
    "Generate more features for each datapoint using the following transformation.\n",
    "\n",
    "For a datapoint $(x_1, x_2)$,\n",
    "$$ (x_1, x_2) \\rightarrow (x_1, x_2, x_1^2, x_2^2, x_1^3, x_2^3, ..., x_1^T, x_2^T) $$\n",
    "Now, instead of giving $(x_1, x_2)$ as the input to the classifier, use the transformed data as the input to the classifier."
   ]
  },
  {
   "cell_type": "markdown",
   "metadata": {
    "colab_type": "text",
    "id": "8XraF1LYgGic"
   },
   "source": [
    "Generate the transformed training and testing dataset using Dataset B (``data_prob3_partb.csv``)."
   ]
  },
  {
   "cell_type": "code",
   "execution_count": 23,
   "metadata": {
    "colab": {},
    "colab_type": "code",
    "id": "1UG8Aa37eckB"
   },
   "outputs": [],
   "source": [
    "#Transforming x_train and x_test datasets\n",
    "\n",
    "def transform (T, x_train, x_test):\n",
    "    rows, cols = (x_train.shape[0], 2*T)\n",
    "    x_txn = [[0]*cols]*rows \n",
    "    rows, cols = (x_test.shape[0], 2*T)\n",
    "    x_txn_test = [[0]*cols]*rows \n",
    "\n",
    "    for i in range(len(x_train)):\n",
    "        x_line = []\n",
    "        for degree in range(T-1):\n",
    "            x_line.append(pow(x_train[i,0],degree+2));\n",
    "            x_line.append(pow(x_train[i,1],degree+2));\n",
    "        x_txn[i] = np.append(x_train[i,:], x_line)\n",
    "\n",
    "    for i in range(len(x_test)):\n",
    "        x_line_test = []\n",
    "        for degree in range(T-1):\n",
    "            x_line_test.append(pow(x_test[i,0],degree+2));\n",
    "            x_line_test.append(pow(x_test[i,1],degree+2));\n",
    "        x_txn_test[i] = np.append(x_test[i,:], x_line_test) \n",
    "        \n",
    "    return x_txn, x_txn_test\n"
   ]
  },
  {
   "cell_type": "markdown",
   "metadata": {
    "colab_type": "text",
    "id": "xq7lZvceeckj"
   },
   "source": [
    "Build the logistic regression model using the transformed training data. The scikit library can be used to build the model. Bonus marks will be awarded if the model is built from scratch without using any external libraries."
   ]
  },
  {
   "cell_type": "code",
   "execution_count": 24,
   "metadata": {
    "colab": {},
    "colab_type": "code",
    "id": "Gjx4dS_Necks"
   },
   "outputs": [],
   "source": [
    "#Implementing logistic regression from scratch (using gradient descent)\n",
    "#The following function is a sigmoid function which returns a value between 0 and 1\n",
    "\n",
    "alpha = 0.001 #LEARNING RATE\n",
    "\n",
    "def sigmoid(theta, X): \n",
    "    return 1.0/(1 + np.exp(-np.dot(X, theta.T))) \n",
    "\n",
    "def log_gradient(theta, x, y): \n",
    "    a = sigmoid(theta, x) - y.reshape(x.shape[0], -1) \n",
    "    b = np.dot(a.T, x) \n",
    "    return b \n",
    "\n",
    "#The following function is the cost function that needs to be minimised\n",
    "def cost_func(theta, x, y): \n",
    "    log_func = sigmoid(theta, x) \n",
    "    y = np.squeeze(y) \n",
    "    a = y * np.log(log_func) \n",
    "    b = (1 - y) * np.log(1 - log_func) \n",
    "    final = -a - b \n",
    "    return np.mean(final)\n",
    "\n",
    "#Predicting labels of a given x\n",
    "def pred_values(theta, x): \n",
    "    pred_prob = sigmoid(theta, x) \n",
    "    pred_value = np.where(pred_prob >= 0.5, 1, 0) \n",
    "    return np.squeeze(pred_value)\n",
    "\n",
    "#GDA\n",
    "def gradient_descent(x, y, theta):\n",
    "    converge_change=0.001\n",
    "    cost = cost_func(theta, x, y) \n",
    "    change_cost = 1\n",
    "    num_iter = 1 \n",
    "    while(change_cost > converge_change): \n",
    "        old_cost = cost \n",
    "        theta = theta - (alpha * log_gradient(theta, x, y)) \n",
    "        cost = cost_func(theta, x, y) \n",
    "        change_cost = old_cost - cost \n",
    "        num_iter += 1\n",
    "    return theta, num_iter  \n",
    "\n",
    "#Plotting the test data points and decision boundary\n",
    "def plot_reg(x, y, theta):\n",
    "    # labelled observations \n",
    "    x_0 = x[np.where(y == 0.0)] \n",
    "    x_1 = x[np.where(y == 1.0)] \n",
    "      \n",
    "    #Using grid of 60 X 60 wth cell size 0.1\n",
    "    dis_plot_poly = np.zeros( (600,600))\n",
    "\n",
    "    for i in range(-20,30):\n",
    "        for j in range(-20,30):\n",
    "            data_point = np.array([0.1*i, 0.1*j])\n",
    "            dp_txn = np.hstack((1, data_point))\n",
    "            if (sigmoid(theta, dp_txn) >= 0.5):\n",
    "                dis_plot_poly[i][j] = 1 \n",
    "            else:\n",
    "                dis_plot_poly[i][j] = 0 \n",
    "                \n",
    "    datalabel_01 = []\n",
    "    datalabel_11 = []\n",
    "    datalabel_00 = []\n",
    "    datalabel_10 = []\n",
    "    disdatalabel_01 = []\n",
    "    disdatalabel_11 = []\n",
    "    disdatalabel_00 = []\n",
    "    disdatalabel_10 = []\n",
    "\n",
    "    for i in range(-20,30):\n",
    "        for j in range(-20,30):\n",
    "            if (dis_plot_poly[i][j] == 0): \n",
    "                disdatalabel_00.append(i*0.1)\n",
    "                disdatalabel_10.append(j*0.1)\n",
    "            if (dis_plot_poly[i][j] == 1): \n",
    "                disdatalabel_01.append(i*0.1)\n",
    "                disdatalabel_11.append(j*0.1)\n",
    "                \n",
    "            \n",
    "    figure()\n",
    "    scatter(disdatalabel_00, disdatalabel_10,color='r')\n",
    "    scatter(disdatalabel_01, disdatalabel_11,color='k')\n",
    "    scatter([x_0[:, 1]], [x_0[:, 2]], c='r', label='y = 0') \n",
    "    scatter([x_1[:, 1]], [x_1[:, 2]], c='k', label='y = 1') \n",
    "    axes = gca()\n",
    "    axes.set_ylim([-2,3])\n",
    "    axes.set_xlim([-2,3])\n",
    "    title('Test data classification')\n",
    "    ylabel('Input feature 2')\n",
    "    xlabel('Input feature 1')\n",
    "    legend()\n",
    "    show()\n",
    "\n"
   ]
  },
  {
   "cell_type": "markdown",
   "metadata": {
    "colab_type": "text",
    "id": "bx0chW1jgxUO"
   },
   "source": [
    "Try different values of $T$ (highest number of degree) between 3 to 10. Find out which value of $T$ gives the best test accuracy. Please print that values of $T$ in the below cell."
   ]
  },
  {
   "cell_type": "code",
   "execution_count": 25,
   "metadata": {
    "colab": {},
    "colab_type": "code",
    "id": "tpogT2Eugxdu"
   },
   "outputs": [
    {
     "name": "stdout",
     "output_type": "stream",
     "text": [
      "Values of T used are [3, 4, 5, 6, 7, 8, 9, 10]\n"
     ]
    }
   ],
   "source": [
    "T = [3,4,5,6,7,8,9,10]\n",
    "print(\"Values of T used are\", T)"
   ]
  },
  {
   "cell_type": "markdown",
   "metadata": {
    "colab_type": "text",
    "id": "v35BcgyzitzF"
   },
   "source": [
    "Print the final weights."
   ]
  },
  {
   "cell_type": "code",
   "execution_count": 26,
   "metadata": {
    "colab": {},
    "colab_type": "code",
    "id": "xQRATqLLitzi"
   },
   "outputs": [
    {
     "name": "stdout",
     "output_type": "stream",
     "text": [
      "The weights for T = 3 are [[-0.00989652 -5.23515722 -1.69577944 -0.21455517  0.34852988  4.26852961\n",
      "  -2.39220657]]\n",
      "The number of epochs for T =  3 are 358\n",
      "The weights for T = 4 are [[ 4.99935264e-04 -5.07053686e+00 -1.67603168e+00 -2.80408607e-01\n",
      "   2.40785719e-01  4.13208937e+00 -2.36599612e+00  6.15721436e-02\n",
      "   1.14999443e-01]]\n",
      "The number of epochs for T =  4 are 335\n",
      "The weights for T = 5 are [[-0.0105      0.32347285 -0.42010344 -0.00716673 -0.01231689  0.7504583\n",
      "  -0.72090076  0.00998841 -0.04930931  1.91265366 -1.58035738]]\n",
      "The number of epochs for T =  5 are 2\n",
      "The weights for T = 6 are [[-0.0105      0.32347285 -0.42010344 -0.00716673 -0.01231689  0.7504583\n",
      "  -0.72090076  0.00998841 -0.04930931  1.91265366 -1.58035738  0.12240989\n",
      "  -0.19369978]]\n",
      "The number of epochs for T =  6 are 2\n",
      "The weights for T = 7 are [[-0.0105      0.32347285 -0.42010344 -0.00716673 -0.01231689  0.7504583\n",
      "  -0.72090076  0.00998841 -0.04930931  1.91265366 -1.58035738  0.12240989\n",
      "  -0.19369978  5.33806349 -4.08573727]]\n",
      "The number of epochs for T =  7 are 2\n",
      "The weights for T = 8 are [[-0.0105      0.32347285 -0.42010344 -0.00716673 -0.01231689  0.7504583\n",
      "  -0.72090076  0.00998841 -0.04930931  1.91265366 -1.58035738  0.12240989\n",
      "  -0.19369978  5.33806349 -4.08573727  0.71824036 -0.83103201]]\n",
      "The number of epochs for T =  8 are 2\n",
      "The weights for T = 9 are [[-1.05000000e-02  3.23472847e-01 -4.20103441e-01 -7.16672738e-03\n",
      "  -1.23168858e-02  7.50458298e-01 -7.20900762e-01  9.98840853e-03\n",
      "  -4.93093099e-02  1.91265366e+00 -1.58035738e+00  1.22409890e-01\n",
      "  -1.93699785e-01  5.33806349e+00 -4.08573727e+00  7.18240356e-01\n",
      "  -8.31032009e-01  1.59426343e+01 -1.20147577e+01]]\n",
      "The number of epochs for T =  9 are 2\n",
      "The weights for T = 10 are [[-1.05000000e-02  3.23472847e-01 -4.20103441e-01 -7.16672738e-03\n",
      "  -1.23168858e-02  7.50458298e-01 -7.20900762e-01  9.98840853e-03\n",
      "  -4.93093099e-02  1.91265366e+00 -1.58035738e+00  1.22409890e-01\n",
      "  -1.93699785e-01  5.33806349e+00 -4.08573727e+00  7.18240356e-01\n",
      "  -8.31032009e-01  1.59426343e+01 -1.20147577e+01  3.54955306e+00\n",
      "  -3.87299686e+00]]\n",
      "The number of epochs for T =  10 are 2\n"
     ]
    }
   ],
   "source": [
    "for t in T:\n",
    "    x_txn, x_txn_test = transform(t, x_train, x_test)\n",
    "    x_txn = np.hstack((np.matrix(np.ones(len(x_txn))).T, x_txn))\n",
    "    x_txn_test = np.hstack((np.matrix(np.ones(len(x_txn_test))).T, x_txn_test))\n",
    "    theta = np.matrix(np.zeros(x_txn.shape[1])) \n",
    "    theta, num_iter = gradient_descent(x_txn, y_train, theta)\n",
    "    print('The weights for T =',t, 'are', theta)\n",
    "    print('The number of epochs for T = ', t , 'are',num_iter)\n",
    "    "
   ]
  },
  {
   "cell_type": "markdown",
   "metadata": {
    "colab_type": "text",
    "id": "n9wbRysyeclC"
   },
   "source": [
    "Print the final accuracy on transformed test data."
   ]
  },
  {
   "cell_type": "code",
   "execution_count": 27,
   "metadata": {
    "colab": {},
    "colab_type": "code",
    "id": "nljp_btdeclI"
   },
   "outputs": [
    {
     "name": "stdout",
     "output_type": "stream",
     "text": [
      "Learning rate =  0.001\n",
      " T \t Accuracy obtained using scikit library \t Accuracy implementation from scratch \n",
      "3 0.992 0.9866666666666667\n",
      "4 0.9893333333333333 0.984\n",
      "5 0.9893333333333333 0.8293333333333334\n",
      "6 0.9893333333333333 0.8293333333333334\n",
      "7 0.9893333333333333 0.8266666666666667\n",
      "8 0.9893333333333333 0.8266666666666667\n",
      "9 0.9893333333333333 0.8266666666666667\n",
      "10 0.9893333333333333 0.8266666666666667\n"
     ]
    }
   ],
   "source": [
    "print (\"Learning rate = \", alpha )\n",
    "print (\" T \\t Accuracy obtained using scikit library \\t Accuracy implementation from scratch \")\n",
    "\n",
    "for t in T:\n",
    "    x_txn, x_txn_test = transform(t, x_train, x_test)\n",
    "    #print(x_txn)\n",
    "\n",
    "    x_txn = np.hstack((np.matrix(np.ones(len(x_txn))).T, x_txn))\n",
    "    x_txn_test = np.hstack((np.matrix(np.ones(len(x_txn_test))).T, x_txn_test))\n",
    "    theta = np.matrix(np.zeros(x_txn.shape[1])) \n",
    "    theta, num_iter = gradient_descent(x_txn, y_train, theta)\n",
    "    y_pred = pred_values(theta, x_txn_test)\n",
    "    num_correct_preds = np.sum(y_pred == y_test)\n",
    "    accuracy = num_correct_preds/len(y_test);\n",
    "    \n",
    "    ############################      Logistic regression model using scikit library       ###########################\n",
    "\n",
    "    classifier = LogisticRegression(random_state = 0).fit(x_txn, y_train) \n",
    "    y_pred = classifier.predict(x_txn_test) \n",
    "    \n",
    "    #Displaying values of accuracy\n",
    "    print (t, accuracy_score(y_test, y_pred), accuracy)"
   ]
  },
  {
   "cell_type": "markdown",
   "metadata": {
    "colab_type": "text",
    "id": "hZw-H4Wuecle"
   },
   "source": [
    "Plot the scatter plot on test data (note that this is  the original data , not the transformed one). On top of this scatter plot, plot the new decision boundaries."
   ]
  },
  {
   "cell_type": "code",
   "execution_count": 28,
   "metadata": {
    "colab": {},
    "colab_type": "code",
    "id": "6btn-cxDeclk"
   },
   "outputs": [
    {
     "data": {
      "image/png": "[encoded data removed]",
      "text/plain": [
       "<Figure size 432x288 with 1 Axes>"
      ]
     },
     "metadata": {
      "needs_background": "light"
     },
     "output_type": "display_data"
    }
   ],
   "source": [
    "plot_reg(x_txn_test, y_test, THETA)\n"
   ]
  },
  {
   "cell_type": "markdown",
   "metadata": {
    "colab_type": "text",
    "id": "m7j1dg8ibMzr"
   },
   "source": [
    "## Problem 3, Part D: Multi-class Logistic Regression"
   ]
  },
  {
   "cell_type": "markdown",
   "metadata": {
    "colab_type": "text",
    "id": "gTt_8MS4Zm03"
   },
   "source": [
    "## Multi-class Logistic Regression\n",
    "\n",
    "In case of a multi-class classification problem (when the number of classes is greater than two), a **softmax function** is used instead. \n",
    "$$\\text{Softmax}(\\theta_{i}) = \\frac{\\exp(\\theta_i)}{\\sum_{j=1}^{N} \\exp(\\theta_j)}$$ where $j$ varies from $1$ to $N$ which is the number of classes and  $\\theta_{i}$ is $$\\theta_{i}=W_{i}*x^{(i)}+b$$ Where $x^{(i)}$ is a feature  vector of dimensions $D \\times 1$ and $W_{i}$ is the $i$-th row of the weight matrix $ W$ of  dimensions $N \\times D$  and $b$ is the bias having dimensions $D \\times 1$."
   ]
  },
  {
   "cell_type": "markdown",
   "metadata": {
    "colab_type": "text",
    "id": "485Jjh7CiWpz"
   },
   "source": [
    "\n",
    "Use Dataset D (``data_prob3_partd.csv``) for this part of the question. The given CSV file has three columns: column 1 is the first input feature, column 2 is the second input feature and column 3 is the output label. Split the dataset into training data (75%) and testing data (25%) randomly.\n"
   ]
  },
  {
   "cell_type": "code",
   "execution_count": 29,
   "metadata": {
    "colab": {},
    "colab_type": "code",
    "id": "CxWD-mjQiWp_"
   },
   "outputs": [],
   "source": [
    "#Splitting data into training and test data\n",
    "df = pd.read_csv('data_prob3_partd.csv')\n",
    "rng = RandomState()\n",
    "train = df.sample(frac=0.75, random_state=rng)\n",
    "test = df.loc[~df.index.isin(train.index)]\n",
    "\n",
    "#Input values \n",
    "x_train = train.iloc[:,[0,1]].values;\n",
    "y_train = train.iloc[:,2].values;\n",
    "x_test = test.iloc[:,[0,1]].values;\n",
    "y_test = test.iloc[:,2].values;\n",
    "\n",
    "#Feature scaling \n",
    "from sklearn.preprocessing import StandardScaler\n",
    "sc = StandardScaler()\n",
    "x_train = sc.fit_transform(x_train)\n",
    "x_test = sc.transform(x_test)\n",
    "#print(x_train)\n",
    "class_database = list(dict.fromkeys(y_train))\n",
    "#print(class_database)"
   ]
  },
  {
   "cell_type": "markdown",
   "metadata": {
    "colab_type": "text",
    "id": "EIImFy8DiWqi"
   },
   "source": [
    "Visualize the training data with a scatter plot (input feature 1 on the X axis, input feature 2 on the Y axis and color the points according to their labels)."
   ]
  },
  {
   "cell_type": "code",
   "execution_count": 30,
   "metadata": {
    "colab": {},
    "colab_type": "code",
    "id": "9wSbHk9SiWqt"
   },
   "outputs": [
    {
     "data": {
      "image/png": "[encoded data removed]",
      "text/plain": [
       "<Figure size 432x288 with 1 Axes>"
      ]
     },
     "metadata": {
      "needs_background": "light"
     },
     "output_type": "display_data"
    }
   ],
   "source": [
    "datalabel_10 = [];\n",
    "datalabel_20 = [];\n",
    "datalabel_11 = [];\n",
    "datalabel_21 = [];\n",
    "datalabel_12 = [];\n",
    "datalabel_22 = [];\n",
    "\n",
    "for i in range(len(y_train)):\n",
    "    if y_train[i] == 0.0:\n",
    "        datalabel_10.append(x_train[i,0]);\n",
    "        datalabel_20.append(x_train[i,1]);\n",
    "    elif y_train[i] == 1.0:\n",
    "        datalabel_11.append(x_train[i,0]);\n",
    "        datalabel_21.append(x_train[i,1]);\n",
    "    else:\n",
    "        datalabel_12.append(x_train[i,0]);\n",
    "        datalabel_22.append(x_train[i,1]);\n",
    "figure()\n",
    "scatter(datalabel_10, datalabel_20,color='r')\n",
    "scatter(datalabel_11, datalabel_21,color='b')\n",
    "scatter(datalabel_12, datalabel_22,color='m')\n",
    "show()"
   ]
  },
  {
   "cell_type": "markdown",
   "metadata": {
    "colab_type": "text",
    "id": "ERqEDKMsiWrM"
   },
   "source": [
    "Build the logistic regression model using the training data. The scikit library can be used to build the model. Bonus marks will be awarded if the model is built from scratch without using any external libraries."
   ]
  },
  {
   "cell_type": "code",
   "execution_count": 31,
   "metadata": {
    "colab": {},
    "colab_type": "code",
    "id": "B11GMS_niWrY"
   },
   "outputs": [],
   "source": [
    "X = x_train\n",
    "Y = y_train\n",
    "classifier = LogisticRegression(random_state = 0).fit(X, Y)\n",
    "y_pred = classifier.predict(x_test)"
   ]
  },
  {
   "cell_type": "markdown",
   "metadata": {
    "colab_type": "text",
    "id": "hWzOaNrkimv3"
   },
   "source": [
    "Print the final weights."
   ]
  },
  {
   "cell_type": "code",
   "execution_count": 32,
   "metadata": {
    "colab": {},
    "colab_type": "code",
    "id": "rAUpUwbZim2X"
   },
   "outputs": [
    {
     "name": "stdout",
     "output_type": "stream",
     "text": [
      "The final weights are [[-1.25947974  1.36119579]\n",
      " [-0.46806082 -2.22626851]\n",
      " [ 1.72754056  0.86507272]]\n"
     ]
    }
   ],
   "source": [
    "W = classifier.coef_\n",
    "print(\"The final weights are\", W )"
   ]
  },
  {
   "cell_type": "markdown",
   "metadata": {
    "colab_type": "text",
    "id": "-UucCk_-iWry"
   },
   "source": [
    "Print the final accuracy on test data."
   ]
  },
  {
   "cell_type": "code",
   "execution_count": 33,
   "metadata": {
    "colab": {},
    "colab_type": "code",
    "id": "aB6wvccOiWr8"
   },
   "outputs": [
    {
     "name": "stdout",
     "output_type": "stream",
     "text": [
      "Accuracy:  0.9386666666666666\n"
     ]
    }
   ],
   "source": [
    "print (\"Accuracy: \", accuracy_score(y_test, y_pred)) "
   ]
  },
  {
   "cell_type": "markdown",
   "metadata": {
    "colab_type": "text",
    "id": "WnTHrX6hiWsT"
   },
   "source": [
    "Plot the scatter plot on test data. On top of this scatter plot, plot the decision boundaries."
   ]
  },
  {
   "cell_type": "code",
   "execution_count": 34,
   "metadata": {
    "colab": {},
    "colab_type": "code",
    "id": "HuBkU27yiWsb"
   },
   "outputs": [
    {
     "data": {
      "image/png": "[encoded data removed]",
      "text/plain": [
       "<Figure size 432x288 with 1 Axes>"
      ]
     },
     "metadata": {
      "needs_background": "light"
     },
     "output_type": "display_data"
    }
   ],
   "source": [
    "import numpy as numpy\n",
    "# softmax function for multi class logistic regression\n",
    "def softmax(W,x):\n",
    "    vec=numpy.dot(x,W.T);\n",
    "    #vec=numpy.add(vec,b);\n",
    "    vec1=numpy.exp(vec);\n",
    "    res=vec1.T/numpy.sum(vec1);\n",
    "    return res.T;\n",
    "\n",
    "# function predicts the probability of input vector\n",
    "# the output y is MX1 vector (M is no of classes)\n",
    "def predict(x):\n",
    "    y=softmax(W,x);\n",
    "    return y;\n",
    "\n",
    "# function returns the lables corresponding to the input y\n",
    "def lable(y):\n",
    "    return labels[y];\n",
    "\n",
    "# function classifies the input vector x into one of output lables\n",
    "# input is NXD vector then output is NX1 vector\n",
    "\n",
    "def classify(x):\n",
    "    result= predict(x);\n",
    "    maxele = max(result)\n",
    "    for i in range(len(result)):\n",
    "        if maxele == result[i]:\n",
    "            maxpos = i        \n",
    "    return maxpos;\n",
    "\n",
    "def plot_reg(x, y):\n",
    "    # labelled observations \n",
    "    x_0 = x[np.where(y == 0.0)] \n",
    "    x_1 = x[np.where(y == 1.0)] \n",
    "    x_2 = x[np.where(y == 2.0)]\n",
    "    \n",
    "    #Using grid of 70 X 70 wth cell size 0.1\n",
    "    dis_plot_poly = np.zeros( (700,700))\n",
    "\n",
    "    for i in range(-30,30):\n",
    "        for j in range(-30,30):\n",
    "            data_point = np.array([0.1*i, 0.1*j])\n",
    "            if (classify(data_point) == 0):\n",
    "                dis_plot_poly[i][j] = 0 \n",
    "            elif (classify(data_point) == 1):\n",
    "                dis_plot_poly[i][j] = 1\n",
    "            else:\n",
    "                dis_plot_poly[i][j] = 2\n",
    "                \n",
    "    datalabel_00 = []\n",
    "    datalabel_10 = []\n",
    "    datalabel_01 = []\n",
    "    datalabel_11 = []\n",
    "    datalabel_02 = []\n",
    "    datalabel_12 = []\n",
    "    disdatalabel_00 = []\n",
    "    disdatalabel_10 = []\n",
    "    disdatalabel_01 = []\n",
    "    disdatalabel_11 = []\n",
    "    disdatalabel_02 = []\n",
    "    disdatalabel_12 = []\n",
    "    \n",
    "        \n",
    "    for i in range(-30,30):\n",
    "        for j in range(-30,30):\n",
    "            if (dis_plot_poly[i][j] == 0): \n",
    "                disdatalabel_00.append(i*0.1)\n",
    "                disdatalabel_10.append(j*0.1)\n",
    "            if (dis_plot_poly[i][j] == 1): \n",
    "                disdatalabel_01.append(i*0.1)\n",
    "                disdatalabel_11.append(j*0.1)\n",
    "            if (dis_plot_poly[i][j] == 2): \n",
    "                disdatalabel_02.append(i*0.1)\n",
    "                disdatalabel_12.append(j*0.1)\n",
    "                \n",
    "            \n",
    "    figure()\n",
    "    scatter(disdatalabel_00, disdatalabel_10,color='r')\n",
    "    scatter(disdatalabel_01, disdatalabel_11,color='b')\n",
    "    scatter(disdatalabel_02, disdatalabel_12,color='m')    \n",
    "    scatter([x_0[:, 0]], [x_0[:, 1]], c='r', label='y = 0') \n",
    "    scatter([x_1[:, 0]], [x_1[:, 1]], c='b', label='y = 1') \n",
    "    scatter([x_2[:, 0]], [x_2[:, 1]], c='m', label='y = 2')\n",
    "    axes = gca()\n",
    "    axes.set_ylim([-3,3])\n",
    "    axes.set_xlim([-3,3])\n",
    "    title('Test data classification')\n",
    "    ylabel('Input feature 2')\n",
    "    xlabel('Input feature 1')\n",
    "    legend()\n",
    "    show()\n",
    "\n",
    "x_test.reshape(-1,1)\n",
    "plot_reg(x_test, y_test)"
   ]
  },
  {
   "cell_type": "markdown",
   "metadata": {
    "colab_type": "text",
    "id": "lRzDZxIhn76D"
   },
   "source": [
    "# Problem 4: Learning on real world datasets\n",
    "\n",
    "*Cric_data.csv* contains the batting averages and bowling averages of various cricket players along with their role in the team (Bowler/Batsman/Allrounder). The task is to predict the player role based on their batting and bowling averages."
   ]
  },
  {
   "cell_type": "markdown",
   "metadata": {
    "colab_type": "text",
    "id": "s-NWN2KyoW6K"
   },
   "source": [
    "In the next CodeWrite cell, extract the required columns from the csv file, partition the data into training (75%) and testing (25%) data randomly.  "
   ]
  },
  {
   "cell_type": "code",
   "execution_count": 35,
   "metadata": {
    "colab": {},
    "colab_type": "code",
    "id": "Ww4f4B90oW6T"
   },
   "outputs": [],
   "source": [
    "import numpy\n",
    "import math\n",
    "#Extract data and partition from the CSV file\n",
    "inp = pd.read_csv('Cric_data.csv',usecols=['Batting Average', 'Bowling Average','Player Role']);\n",
    "#print(inp)\n",
    "\n",
    "#Splitting data into training (75%) and test (25%) data\n",
    "rng = RandomState()\n",
    "train = inp.sample(frac=0.75, random_state=rng)\n",
    "test = inp.loc[~inp.index.isin(train.index)]\n",
    "#print(train)\n",
    "#print(test)\n",
    "\n",
    "#Input values \n",
    "x_train = train.iloc[:,[0,1]].values;\n",
    "y_train = train.iloc[:,2].values;\n",
    "x_test = test.iloc[:,[0,1]].values;\n",
    "y_test = test.iloc[:,2].values;\n",
    "\n",
    "#Encoding the labels \n",
    "le = preprocessing.LabelEncoder()\n",
    "le.fit(y_train)\n",
    "le.fit(y_test)\n",
    "#print(le.classes_) #['Allrounder' 'Batsman' 'Bowler'] - ['0','1','2'] \n",
    "y_train = le.transform(y_train)\n",
    "y_test = le.transform(y_test)\n",
    "#print(y_train)\n",
    "#print(le.inverse_transform(y_train))\n"
   ]
  },
  {
   "cell_type": "markdown",
   "metadata": {
    "colab_type": "text",
    "id": "K5ED_HDQoW6l"
   },
   "source": [
    "**Binary Classification:**\n",
    "\n",
    "Derive the classifiers under the assumptions below, and use ML estimators to compute and return the results on the test set. *Consider only batsmen and bowlers in this part*.\n",
    "\n",
    "Let random variable $\\underline X$ represent (Batting Average, Bowling Average) of a player whose role is a random variable $Y$.\n",
    "\n",
    "1a) Linear Predictor: Assume $\\underline X|Y=Batsman \\sim \\mathcal{N}(\\underline {\\mu_-}, I)$ and  $X|Y=Bowler \\sim \\mathcal{N}(\\underline {\\mu_+}, I)$. \n",
    "\n",
    "1b) Bayes Classifier: Assume $\\underline X|Y=Batsman \\sim \\mathcal{N}(\\underline {\\mu_-}, \\Sigma_-)$ and  $X|Y=Bowler \\sim \\mathcal{N}(\\underline {\\mu_+}, \\Sigma_+)$. "
   ]
  },
  {
   "cell_type": "code",
   "execution_count": 36,
   "metadata": {
    "colab": {},
    "colab_type": "code",
    "id": "NFFcaecYoW6t"
   },
   "outputs": [
    {
     "name": "stdout",
     "output_type": "stream",
     "text": [
      "Linear Predictor: Prediction Accuracy = 81.5\n",
      "Bayesian Predictor: Prediction Accuracy = 90.0\n"
     ]
    },
    {
     "data": {
      "image/png": "[encoded data removed]",
      "text/plain": [
       "<Figure size 432x288 with 1 Axes>"
      ]
     },
     "metadata": {
      "needs_background": "light"
     },
     "output_type": "display_data"
    },
    {
     "data": {
      "image/png": "[encoded data removed]",
      "text/plain": [
       "<Figure size 432x288 with 1 Axes>"
      ]
     },
     "metadata": {
      "needs_background": "light"
     },
     "output_type": "display_data"
    }
   ],
   "source": [
    "#Defined variables whose meanings are self explanatory\n",
    "bowling_avg_bowler = 0.0\n",
    "bowling_avg_batsman = 0.0\n",
    "batting_avg_bowler = 0.0\n",
    "batting_avg_batsman = 0.0\n",
    "num_bowler_in_training = 0\n",
    "num_batsman_in_training = 0\n",
    "probability_bowler = 0.0\n",
    "probability_batsman = 0.0\n",
    "\n",
    "x_train_final = []\n",
    "y_train_final = []\n",
    "\n",
    "for index in range(len(y_train)):\n",
    "    if y_train[index] == 1:\n",
    "        y_train_final.append(-1) # -1 indicates Batsman as per CSV file\n",
    "        x_train_final.append([x_train[index,0],x_train[index,1]])\n",
    "        batting_avg_batsman += x_train[index,0]\n",
    "        bowling_avg_batsman += x_train[index,1]\n",
    "        num_batsman_in_training += 1\n",
    "    elif y_train[index] == 2:\n",
    "        y_train_final.append(1) # 1 indicates Bowler as per CSV file\n",
    "        x_train_final.append([x_train[index,0],x_train[index,1]])\n",
    "        batting_avg_bowler += x_train[index,0]\n",
    "        bowling_avg_bowler += x_train[index,1]\n",
    "        num_bowler_in_training += 1\n",
    "\n",
    "total_training_data = num_bowler_in_training + num_batsman_in_training\n",
    "\n",
    "probability_batsman = float(num_batsman_in_training)/total_training_data\n",
    "probability_bowler = float(num_bowler_in_training)/float(total_training_data)\n",
    "batting_avg_batsman = float(batting_avg_batsman)/num_batsman_in_training #mu_minusOne[0]\n",
    "batting_avg_bowler = float(batting_avg_bowler)/num_bowler_in_training #mu_plusOne[0]\n",
    "bowling_avg_batsman = float(bowling_avg_batsman)/num_batsman_in_training #mu_minusOne[1]\n",
    "bowling_avg_bowler = float(bowling_avg_bowler)/num_bowler_in_training #mu_plusOne[1]\n",
    "bat11_var = numpy.float128(0) #Sigma_minusOne[1,1]\n",
    "bat22_var = numpy.float128(0) #Sigma_minusOne[2,2]\n",
    "bat12_var = numpy.float128(0) #sigma_minusOne[1,2] = sigma_minusOne[2,1]\n",
    "bowl11_var = numpy.float128(0) #Sigma_plusOne[1,1]\n",
    "bowl12_var = numpy.float128(0) #Sigma_plusOne[2,2]\n",
    "bowl22_var = numpy.float128(0) #Sigma_plusOne[1,2] = Sigma_plusOne[2,1]\n",
    "\n",
    "for i in range(total_training_data):\n",
    "    if y_train_final[i] == -1: #Batsman\n",
    "        bat11_var += (x_train_final[i][0] - batting_avg_batsman)**2\n",
    "        bat12_var += (x_train_final[i][0] - batting_avg_batsman)*(x_train_final[i][1] - bowling_avg_batsman)\n",
    "        bat22_var += (x_train_final[i][1] - bowling_avg_batsman)**2 \n",
    "    else:                     #Bowler\n",
    "        bowl11_var += (x_train_final[i][0] - batting_avg_bowler)**2\n",
    "        bowl12_var += (x_train_final[i][0] - batting_avg_bowler)*(x_train_final[i][1] - bowling_avg_bowler)\n",
    "        bowl22_var += (x_train_final[i][1] - bowling_avg_bowler)**2 \n",
    "\n",
    "\n",
    "#Co-Variance Matrix Batsman - Forming Sigma_minusOne Matrix\n",
    "bat11_var = numpy.float128(bat11_var)/num_batsman_in_training\n",
    "bat12_var = numpy.float128(bat12_var)/num_batsman_in_training\n",
    "bat22_var = numpy.float128(bat22_var)/num_batsman_in_training\n",
    "batcor12 = numpy.float128(bat12_var)/numpy.float128(math.sqrt(bat11_var)*math.sqrt(bat22_var))\n",
    "detbat = numpy.float128(bat11_var*bat22_var - (bat12_var**2))\n",
    "                      \n",
    "#Co-Variance Matrix Bowler - Forming Sigma_plusOne Matrix\n",
    "bowl11_var = numpy.float128(bowl11_var)/num_bowler_in_training\n",
    "bowl12_var = numpy.float128(bowl12_var)/num_bowler_in_training\n",
    "bowl22_var = numpy.float128(bowl22_var)/num_bowler_in_training\n",
    "bowlcor12 = numpy.float128(bowl12_var)/numpy.float128(math.sqrt(bowl11_var)*math.sqrt(bowl22_var))\n",
    "detbowl = numpy.float128(bowl11_var*bowl22_var - (bowl12_var**2))\n",
    "\n",
    "batcoeff = 1/(2*(1-batcor12**2)) # This is needed for Bayesian\n",
    "bowlcoeff = 1/(2*(1-bowlcor12**2)) # This is needed for Bayesian\n",
    "\n",
    "#Prob(Bowler|(BatAvg,BowlAvg)) = Prob((BatAvg,BowlAvg)|Bowler) * Prob(Bowler)/Prob(BatAvg,BowlAvg)\n",
    "#Prob(Batsman|(BatAvg,BowlAvg)) = Prob((BatAvg,BowlAvg)|Batsman) * Prob(Batsman)/Prob(BatAvg,BowlAvg)\n",
    "#Compare: Prob((BatAvg,BowlAvg)|Bowler) * Prob(Bowler) ? Prob((BatAvg,BowlAvg)|Batsman) * Prob(Batsman)\n",
    "#For Linear: Prob((BatAvg,BowlAvg)| Bowler) follows N(muPlusOne,Identity)\n",
    "# and rob((BatAvg,BowlAvg)| Batsman) follows N(muMinusOne,Identity)\n",
    "\n",
    "#ln(Prob((x0,x1)|Batsman)) = -((x0-muMinusOne[0])**2 + (x1-muMinusOne[1])**2)/2 + ln(Prob(Batsman))\n",
    "#ln(Prob((x0,x1)|Bowler)) = -((x0-muPlusOne[0])**2 + (x1-muPlusOne[1])**2)/2 + ln(Prob(Bowler))\n",
    "\n",
    "#Testing Linear Predictor\n",
    "correct_prediction = 0\n",
    "total_prediction = 0\n",
    "x_test_final = []\n",
    "y_test_final = []\n",
    "Y_test_pred_lin = []\n",
    "for index in range(len(y_test)):\n",
    "    if y_test[index] == 1:\n",
    "        y_test_final.append(-1) # -1 indicates Batsman as per CSV file\n",
    "        x_test_final.append([x_test[index,0],x_test[index,1]])\n",
    "    elif y_test[index] == 2:\n",
    "        y_test_final.append(1) # 1 indicates Bowler as per CSV file\n",
    "        x_test_final.append([x_test[index,0],x_test[index,1]])\n",
    "    if y_test[index] != 0:\n",
    "        temp_batsman = - ((x_test[index,0] - batting_avg_batsman)**2 + (x_test[index,1] - bowling_avg_batsman)**2)/2 + numpy.log (probability_batsman)\n",
    "        temp_bowler = - ( (x_test[index,0] - batting_avg_bowler)**2 + (x_test[index,1] - bowling_avg_bowler)**2)/2 + numpy.log (probability_bowler)\n",
    "        if (temp_batsman < temp_bowler):\n",
    "            predict = 2\n",
    "            Y_test_pred_lin.append(1)\n",
    "        else:\n",
    "            predict = 1\n",
    "            Y_test_pred_lin.append(-1)\n",
    "        if (predict == y_test[index]):\n",
    "            correct_prediction += 1\n",
    "        total_prediction +=1\n",
    "     \n",
    "    \n",
    "print (\"Linear Predictor: Prediction Accuracy =\", float(correct_prediction)*100/total_prediction)\n",
    "\n",
    "#Creating Data for ploting\n",
    "#Using grid of 60 X 60 wth cell size 0.1\n",
    "dis_plot_linear = np.zeros( (600,600))\n",
    "\n",
    "for i in range(600):\n",
    "    for j in range(600):\n",
    "        temp_batsman = - ((i*0.1 - batting_avg_batsman)**2 + (j*0.1 - bowling_avg_batsman)**2)/2 + np.log (probability_batsman)\n",
    "        temp_bowler = - ( (i*0.1 - batting_avg_bowler)**2 + (j*0.1 - bowling_avg_bowler)**2)/2 + np.log (probability_bowler)\n",
    "        if (temp_batsman < temp_bowler):\n",
    "            dis_plot_linear[i][j] = 1 #Bowler\n",
    "        else:\n",
    "            dis_plot_linear[i][j] = -1 #Batsman\n",
    "\n",
    "#For Bayesian: Prob((BatAvg,BowlAvg)| Bowler) follows N(muPlusOne,SigmaPlusOne)\n",
    "# and rob((BatAvg,BowlAvg)| Batsman) follows N(muMinusOne,SigmaMinusOne)\n",
    "\n",
    "#ln(Prob((x0,x1)|Batsman)) = -((x0-muMinus[0])**2/SMinu[1,1] + (x1-muMinus[1])**2)/SMinu[2,2] -2*batcor12*(x0-muMinus[0])*(x1-muMinus[1])/sqrt(Sminu[1,1]*SMinu[2,2]))*bat_coeff - ln(det(SigmaMinus))/2 + ln(Prob(Batsman))\n",
    "#ln(Prob((x0,x1)|Bowler)) = -((x0-muPlus[0])**2/SPlus[1,1] + (x1-muPlus[1])**2)/SPlus[2,2] -2*bowlcor12*(x0-muPlus[0])*(x1-muPlus[1])/sqrt(SPlus[1,1]*SSplu[2,2]))*bowl_coeff - ln(det(SigmaPlus))/2 + ln(Prob(Bowler))\n",
    "\n",
    "#Testing Bayesian Classifier\n",
    "correct_prediction = 0\n",
    "total_prediction = 0\n",
    "x_test_final = []\n",
    "y_test_final = []\n",
    "Y_test_pred_bayes = []\n",
    "for index in range(len(y_test)):\n",
    "    if y_test[index] == 1:\n",
    "        y_test_final.append(-1) # -1 indicates Batsman as per CSV file\n",
    "        x_test_final.append([x_test[index,0],x_test[index,1]])\n",
    "    elif y_test[index] == 2:\n",
    "        y_test_final.append(1) # 1 indicates Bowler as per CSV file\n",
    "        x_test_final.append([x_test[index,0],x_test[index,1]])\n",
    "    if y_test[index] != 0:\n",
    "        temp_batsman = -( ( (x_test[index,0] - batting_avg_batsman)**2/bat11_var + (x_test[index,1] - bowling_avg_batsman)**2/bat22_var - 2*batcor12*((x_test[index,0]-batting_avg_batsman)*(x_test[index,1]-bowling_avg_batsman)/(math.sqrt(bat11_var)*math.sqrt(bat22_var)))))*batcoeff - numpy.log(detbat)/2 + numpy.log (probability_batsman)\n",
    "        temp_bowler = -( ( (x_test[index,0] - batting_avg_bowler)**2/bowl11_var + (x_test[index,1] - bowling_avg_bowler)**2/bowl22_var - 2*bowlcor12*((x_test[index,0]-batting_avg_bowler)*(x_test[index,1]-bowling_avg_bowler)/(math.sqrt(bowl11_var)*math.sqrt(bowl22_var)))))*bowlcoeff -numpy.log(detbowl)/2 + numpy.log (probability_bowler)\n",
    "        if (temp_batsman < temp_bowler):\n",
    "            predict = 2\n",
    "            Y_test_pred_bayes.append(1)\n",
    "        else:\n",
    "            predict = 1\n",
    "            Y_test_pred_bayes.append(-1)\n",
    "        if (predict == y_test[index]):\n",
    "            correct_prediction += 1\n",
    "        total_prediction +=1\n",
    "\n",
    "print (\"Bayesian Predictor: Prediction Accuracy =\", float(correct_prediction)*100/total_prediction)\n",
    "\n",
    "#Data for discriminating plot\n",
    "#Again grid of size 60 X 60 with cell size 0.1\n",
    "\n",
    "dis_plot_Bayesian = np.zeros( (600,600))\n",
    "\n",
    "for i in range(600):\n",
    "    for j in range(600):\n",
    "        temp_batsman = -( ( (i*0.1 - batting_avg_batsman)**2/bat11_var + (j*0.1 - bowling_avg_batsman)**2/bat22_var - 2*batcor12*((i*0.1-batting_avg_batsman)*(j*0.1-bowling_avg_batsman)/(math.sqrt(bat11_var)*math.sqrt(bat22_var)))))*batcoeff - numpy.log(detbat)/2 + numpy.log (probability_batsman)\n",
    "        temp_bowler = -( ( (i*0.1 - batting_avg_bowler)**2/bowl11_var + (j*0.1 - bowling_avg_bowler)**2/bowl22_var - 2*bowlcor12*((i*0.1-batting_avg_bowler)*(j*0.1-bowling_avg_bowler)/(math.sqrt(bowl11_var)*math.sqrt(bowl22_var)))))*bowlcoeff -numpy.log(detbowl)/2 + numpy.log (probability_bowler)\n",
    "        if (temp_batsman < temp_bowler):\n",
    "            dis_plot_Bayesian[i][j] = 1\n",
    "        else:\n",
    "            dis_plot_Bayesian[i][j] = -1\n",
    "            \n",
    "#Scatter plot for batting average and bowling average  to visualize the prediction\n",
    "\n",
    "datalabel_12 = []\n",
    "datalabel_22 = []\n",
    "datalabel_11 = []\n",
    "datalabel_21 = []\n",
    "disdatalabel_12 = []\n",
    "disdatalabel_22 = []\n",
    "disdatalabel_11 = []\n",
    "disdatalabel_21 = []\n",
    "\n",
    "\n",
    "for i in range(600):\n",
    "    for j in range(600):\n",
    "        if (dis_plot_linear[i][j] == -1): \n",
    "            disdatalabel_11.append(i*0.1)\n",
    "            disdatalabel_21.append(j*0.1)\n",
    "        if (dis_plot_linear[i][j] == 1): \n",
    "            disdatalabel_12.append(i*0.1)\n",
    "            disdatalabel_22.append(j*0.1)\n",
    "for i in range(len(x_train_final)):\n",
    "    if (y_train_final[i] == -1) and (x_train_final[i][0] < 61) and (x_train_final[i][1] < 61): #Batting\n",
    "        datalabel_11.append(x_train_final[i][0])\n",
    "        datalabel_21.append(x_train_final[i][1])\n",
    "    elif (y_train_final[i] == 1) and (x_train_final[i][0] < 61) and (x_train_final[i][1] < 61): #Bowling\n",
    "        datalabel_12.append(x_train_final[i][0])\n",
    "        datalabel_22.append(x_train_final[i][1])\n",
    "\n",
    "\n",
    "figure()\n",
    "xlabel('Batting Average')\n",
    "ylabel('Bowling Average')\n",
    "title('Linear Predictor')\n",
    "scatter(disdatalabel_11, disdatalabel_21,color='r')\n",
    "scatter(disdatalabel_12, disdatalabel_22,color='k')\n",
    "scatter(datalabel_11, datalabel_21,color='r',marker='8',label=\"Batsman\")\n",
    "scatter(datalabel_12, datalabel_22,color='k',marker='s',label=\"Bowler\")\n",
    "legend()\n",
    "\n",
    "datalabel_11 = []\n",
    "datalabel_21 = []\n",
    "datalabel_12 = []\n",
    "datalabel_22 = []\n",
    "disdatalabel_11 = []\n",
    "disdatalabel_21 = []\n",
    "disdatalabel_12 = []\n",
    "disdatalabel_22 = []\n",
    "\n",
    "for i in range(600):\n",
    "    for j in range(600):\n",
    "        if (dis_plot_Bayesian[i][j] == -1): \n",
    "            disdatalabel_11.append(i*0.1)\n",
    "            disdatalabel_21.append(j*0.1)\n",
    "        if (dis_plot_Bayesian[i][j] == 1): \n",
    "            disdatalabel_12.append(i*0.1)\n",
    "            disdatalabel_22.append(j*0.1)\n",
    "\n",
    "for i in range(len(x_train_final)):\n",
    "    if (y_train_final[i] == -1) and (x_train_final[i][0] < 61) and (x_train_final[i][1] < 61): #Batting\n",
    "        datalabel_11.append(x_train_final[i][0])\n",
    "        datalabel_21.append(x_train_final[i][1])\n",
    "    elif (y_train_final[i] == 1) and (x_train_final[i][0] < 61) and (x_train_final[i][1] < 61): #Bowling\n",
    "        datalabel_12.append(x_train_final[i][0])\n",
    "        datalabel_22.append(x_train_final[i][1])\n",
    "\n",
    "\n",
    "\n",
    "figure()\n",
    "xlabel('Batting Average')\n",
    "ylabel('Bowling Average')\n",
    "title('Bayes Classifier')\n",
    "scatter(disdatalabel_11, disdatalabel_21,color='r')\n",
    "scatter(disdatalabel_12, disdatalabel_22,color='k')\n",
    "scatter(datalabel_11, datalabel_21,color='r',marker=\"8\",label=\"Batsman\")\n",
    "scatter(datalabel_12, datalabel_22,color='k',marker=\"s\",label=\"Bowler\")\n",
    "legend()\n",
    "show()\n",
    "\n",
    "\n",
    "\n",
    "\n",
    "\n",
    "\n"
   ]
  },
  {
   "cell_type": "markdown",
   "metadata": {
    "colab_type": "text",
    "id": "nbkxj8euoW65"
   },
   "source": [
    "**Multi-class Classification:**\n",
    "\n",
    "Derive the classifiers under the assumptions below, and use ML estimators to compute and return the results on the test set. *Consider batsmen, bowlers and allrounders in this part*.\n",
    "\n",
    "Let random variable $\\underline X$ represent (Batting Average, Bowling Average) of a player whose role is a random variable $Y$.\n",
    "\n",
    "The $3\\times 3$ loss matrix giving the loss incurred for predicting $i$ when truth is $j$ is below. (Ordering: Batsman - Allrounder - Bowler)\n",
    "\n",
    "$L=\\begin{bmatrix} 0 &1 & 2\\\\ 1 &0 & 1\\\\ 2 &1 & 0\\end{bmatrix}$ \n",
    "\n",
    "2a) Linear Predictor: Assume $\\underline X|Y=a \\sim \\mathcal{N}(\\underline {\\mu_a}, I)$\n",
    "\n",
    "2b) Bayes Classifier: Assume $\\underline X|Y=a \\sim \\mathcal{N}(\\underline {\\mu_a}, \\Sigma_a)$"
   ]
  },
  {
   "cell_type": "code",
   "execution_count": 37,
   "metadata": {
    "colab": {},
    "colab_type": "code",
    "id": "kxKx5gBfoW69"
   },
   "outputs": [
    {
     "name": "stdout",
     "output_type": "stream",
     "text": [
      "Linear Predictor: Prediction Accuracy = 66.66666666666667  Cumulative Loss = 111\n",
      "Bayesian Predictor: Prediction Accuracy = 66.66666666666667  Cumulative Loss = 116\n"
     ]
    },
    {
     "data": {
      "image/png": "[encoded data removed]",
      "text/plain": [
       "<Figure size 432x288 with 1 Axes>"
      ]
     },
     "metadata": {
      "needs_background": "light"
     },
     "output_type": "display_data"
    },
    {
     "data": {
      "image/png": "[encoded data removed]",
      "text/plain": [
       "<Figure size 432x288 with 1 Axes>"
      ]
     },
     "metadata": {
      "needs_background": "light"
     },
     "output_type": "display_data"
    }
   ],
   "source": [
    "#Extract data and partition from the CSV file\n",
    "inp = pd.read_csv('Cric_data.csv',usecols=['Batting Average', 'Bowling Average','Player Role']);\n",
    "#print(inp)\n",
    "\n",
    "#Splitting data into training (75%) and test (25%) data\n",
    "rng = RandomState()\n",
    "train = inp.sample(frac=0.75, random_state=rng)\n",
    "test = inp.loc[~inp.index.isin(train.index)]\n",
    "\n",
    "#print(test)\\\n",
    "\n",
    "#Input values \n",
    "x_train = train.iloc[:,[0,1]].values;\n",
    "y_train = train.iloc[:,2].values;\n",
    "x_test = test.iloc[:,[0,1]].values;\n",
    "y_test = test.iloc[:,2].values;\n",
    "\n",
    "#Encoding the labels \n",
    "le = preprocessing.LabelEncoder()\n",
    "le.fit(y_train)\n",
    "le.fit(y_test)\n",
    "#print(le.classes_) #['Allrounder' 'Batsman' 'Bowler'] - ['0','1','2'] \n",
    "y_train = le.transform(y_train)\n",
    "y_test = le.transform(y_test)\n",
    "#print(x_test,y_test)\n",
    "#print(x_train,y_train)\n",
    "#print(le.inverse_transform(y_test))\n",
    "\n",
    "#Define the lossMatrix\n",
    "lossMatrix = np.array([[0,1,1],[1,0,2],[1,2,0]])\n",
    "\n",
    "#Defined variables whose meanings are self explanatory\n",
    "bowling_avg_bowler = 0.0\n",
    "bowling_avg_batsman = 0.0\n",
    "bowling_avg_allrounder = 0.0\n",
    "batting_avg_bowler = 0.0\n",
    "batting_avg_batsman = 0.0\n",
    "batting_avg_allrounder = 0.0\n",
    "num_bowler_in_training = 0\n",
    "num_batsman_in_training = 0\n",
    "num_allrounder_in_training = 0\n",
    "probability_bowler = 0.0\n",
    "probability_batsman = 0.0\n",
    "probability_allrounder = 0.0\n",
    "\n",
    "x_train_final = []\n",
    "y_train_final = []\n",
    "for index in range(len(y_train)):\n",
    "    if y_train[index] == 1:\n",
    "        y_train_final.append(-1) # -1 indicates Batsman as per CSV file\n",
    "        x_train_final.append([x_train[index,0],x_train[index,1]])\n",
    "        batting_avg_batsman += x_train[index,0]\n",
    "        bowling_avg_batsman += x_train[index,1]\n",
    "        num_batsman_in_training += 1\n",
    "    elif y_train[index] == 2:\n",
    "        y_train_final.append(1) # 1 indicates Bowler as per CSV file\n",
    "        x_train_final.append([x_train[index,0],x_train[index,1]])\n",
    "        batting_avg_bowler += x_train[index,0]\n",
    "        bowling_avg_bowler += x_train[index,1]\n",
    "        num_bowler_in_training += 1\n",
    "    elif y_train[index] == 0:\n",
    "        y_train_final.append(0) #0 indicates Allrounder as per CSV file\n",
    "        x_train_final.append([x_train[index,0],x_train[index,1]])\n",
    "        batting_avg_allrounder += x_train[index,0]\n",
    "        bowling_avg_allrounder += x_train[index,1]\n",
    "        num_allrounder_in_training += 1\n",
    "\n",
    "total_training_data = num_bowler_in_training + num_batsman_in_training + num_allrounder_in_training\n",
    "\n",
    "probability_batsman = float(num_batsman_in_training)/total_training_data\n",
    "probability_bowler = float(num_bowler_in_training)/float(total_training_data)\n",
    "probability_allrounder = float(num_allrounder_in_training)/total_training_data\n",
    "batting_avg_batsman = float(batting_avg_batsman)/num_batsman_in_training #mu_minusOne[0]\n",
    "batting_avg_bowler = float(batting_avg_bowler)/num_bowler_in_training #mu_plusOne[0]\n",
    "bowling_avg_batsman = float(bowling_avg_batsman)/num_batsman_in_training #mu_minusOne[1]\n",
    "bowling_avg_bowler = float(bowling_avg_bowler)/num_bowler_in_training #mu_plusOne[1]\n",
    "batting_avg_allrounder = float(batting_avg_allrounder)/num_allrounder_in_training #mu_0[0]\n",
    "bowling_avg_allrounder = float(bowling_avg_allrounder)/num_allrounder_in_training #mu_0[1]\n",
    "\n",
    "\n",
    "bat11_var = np.float128(0) #Sigma_minusOne[1,1]\n",
    "bat22_var = np.float128(0) #Sigma_minusOne[2,2]\n",
    "bat12_var = np.float128(0) #sigma_minusOne[1,2] = Sigma_minusOne[2,1]\n",
    "bowl11_var = np.float128(0) #Sigma_plusOne[1,1]\n",
    "bowl12_var = np.float128(0) #Sigma_plusOne[2,2]\n",
    "bowl22_var = np.float128(0) #Sigma_plusOne[1,2] = Sigma_plusOne[2,1]\n",
    "all11_var = np.float128(0) #Sigma_0[1,1]\n",
    "all12_var = np.float128(0) #Sigma_0[2,2]\n",
    "all22_var = np.float128(0) #Sigma_0[1,2] = Sigma_0[2,1]\n",
    "\n",
    "for i in range(total_training_data):\n",
    "    if y_train_final[i] == -1: #Batsman\n",
    "        bat11_var += (x_train_final[i][0] - batting_avg_batsman)**2\n",
    "        bat12_var += (x_train_final[i][0] - batting_avg_batsman)*(x_train_final[i][1] - bowling_avg_batsman)\n",
    "        bat22_var += (x_train_final[i][1] - bowling_avg_batsman)**2 \n",
    "    elif y_train_final[i] == 1: #Bowler\n",
    "        bowl11_var += (x_train_final[i][0] - batting_avg_bowler)**2\n",
    "        bowl12_var += (x_train_final[i][0] - batting_avg_bowler)*(x_train_final[i][1] - bowling_avg_bowler)\n",
    "        bowl22_var += (x_train_final[i][1] - bowling_avg_bowler)**2\n",
    "    elif y_train_final[i] == 0: #Allrounder\n",
    "        all11_var += (x_train_final[i][0] - batting_avg_allrounder)**2\n",
    "        all12_var += (x_train_final[i][0] - batting_avg_allrounder)*(x_train_final[i][1] - bowling_avg_allrounder)\n",
    "        all22_var += (x_train_final[i][1] - bowling_avg_allrounder)**2  \n",
    "\n",
    "\n",
    "#Co-Variance Matrix Batsman - Forming Sigma_minusOne Matrix\n",
    "bat11_var = np.float128(bat11_var)/num_batsman_in_training\n",
    "bat12_var = np.float128(bat12_var)/num_batsman_in_training\n",
    "bat22_var = np.float128(bat22_var)/num_batsman_in_training\n",
    "detbat = np.float128(bat11_var*bat22_var - (bat12_var**2))\n",
    "inv_bat11 = bat22_var/detbat\n",
    "inv_bat12 = -bat12_var/detbat\n",
    "inv_bat22 = bat11_var/detbat\n",
    "\n",
    "#Co-Variance Matrix All Rounder - Forming Sigma_0 Matrix\n",
    "all11_var = np.float128(all11_var)/num_allrounder_in_training\n",
    "all12_var = np.float128(all12_var)/num_allrounder_in_training\n",
    "all22_var = np.float128(all22_var)/num_allrounder_in_training\n",
    "detall = np.float128(all11_var*all22_var - (all12_var**2))\n",
    "inv_all11 = all22_var/detall\n",
    "inv_all12 = -all12_var/detall\n",
    "inv_all22 = all11_var/detall\n",
    "                  \n",
    "#Co-Variance Matrix Bowler - Forming Sigma_plusOne Matrix\n",
    "bowl11_var = np.float128(bowl11_var)/num_bowler_in_training\n",
    "bowl12_var = np.float128(bowl12_var)/num_bowler_in_training\n",
    "bowl22_var = np.float128(bowl22_var)/num_bowler_in_training\n",
    "detbowl = np.float128(bowl11_var*bowl22_var - (bowl12_var**2))\n",
    "inv_bowl11 = bowl22_var/detbowl\n",
    "inv_bowl12 = -bowl12_var/detbowl\n",
    "inv_bowl22 = bowl11_var/detbowl\n",
    "\n",
    "\n",
    "#Prob(Bowler|(BatAvg,BowlAvg)) = Prob((BatAvg,BowlAvg)|Bowler) * Prob(Bowler)/Prob(BatAvg,BowlAvg)\n",
    "#Prob(Batsman|(BatAvg,BowlAvg)) = Prob((BatAvg,BowlAvg)|Batsman) * Prob(Batsman)/Prob(BatAvg,BowlAvg)\n",
    "#Prob(Allrounder|(BatAvg,BowlAvg)) = Prob((BatAvg,BowlAvg)|Allrounder) * Prob(Allrounder)/Prob(BatAvg,BowlAvg)\n",
    "#Compare: Prob((BatAvg,BowlAvg)|Bowler) * Prob(Bowler) ? Prob((BatAvg,BowlAvg)|Batsman) * Prob(Batsman) ?\n",
    "#         Prob((BatAvg,BowlAvg)|Allrounder * Prob(Allrounder)\n",
    "\n",
    "#For Linear: Prob((BatAvg,BowlAvg)| Bowler) follows N(muPlusOne,Identity)\n",
    "# Prob((BatAvg,BowlAvg)| Batsman) follows N(muMinusOne,Identity)\n",
    "# Prob((BatAvg,BowlAvg) | Allrounder) follows N(mu_0,Identity)\n",
    "\n",
    "#ln(Prob((x0,x1)|Batsman)) = -((x0-muMinusOne[0])**2 + (x1-muMinusOne[1])**2)/2 + ln(Prob(Batsman))\n",
    "#ln(Prob((x0,x1)|Bowler)) = -((x0-muPlusOne[0])**2 + (x1-muPlusOne[1])**2)/2 + ln(Prob(Bowler))\n",
    "#ln(Prob((x0,x1)|Allrounder)) = -((x0-mu_0[0])**2 + (x1-mu_0[0])**2)/2 + ln(Prob(allrounder))\n",
    "\n",
    "#Testing Linear Predictor\n",
    "correct_prediction = 0\n",
    "total_prediction = 0\n",
    "cumulative_loss = 0\n",
    "x_test_final = []\n",
    "Y_test_pred_lin = []\n",
    "for index in range(len(y_test)):\n",
    "    temp_batsman = - ((x_test[index,0] - batting_avg_batsman)**2 + (x_test[index,1] - bowling_avg_batsman)**2)/2 + np.log (probability_batsman)\n",
    "    temp_bowler = - ( (x_test[index,0] - batting_avg_bowler)**2 + (x_test[index,1] - bowling_avg_bowler)**2)/2 + np.log (probability_bowler)\n",
    "    temp_allrounder = - ( (x_test[index,0] - batting_avg_allrounder)**2 + (x_test[index,1] - bowling_avg_allrounder)**2)/2 + np.log (probability_allrounder)\n",
    "    x_test_final.append([x_test[index,0],x_test[index,1]])\n",
    "    if (temp_batsman < temp_bowler):\n",
    "        if (temp_bowler < temp_allrounder):\n",
    "            predict = 0\n",
    "            Y_test_pred_lin.append(0)\n",
    "        else:\n",
    "            predict = 2\n",
    "            Y_test_pred_lin.append(1)\n",
    "    else:\n",
    "        if (temp_allrounder < temp_batsman):\n",
    "            predict = 1\n",
    "            Y_test_pred_lin.append(-1)\n",
    "        else:\n",
    "            predict = 0\n",
    "            Y_test_pred_lin.append(0)\n",
    "\n",
    "    if (predict == y_test[index]):\n",
    "        correct_prediction += 1\n",
    "    total_prediction +=1\n",
    "    cumulative_loss += lossMatrix[predict][y_test[index]]\n",
    "\n",
    "#Data for discriminating plot\n",
    "#Using grid of 60 X 60 wth cell size 0.1\n",
    "dis_plot_linear = np.zeros( (600,600))\n",
    "\n",
    "for i in range(600):\n",
    "    for j in range(600):\n",
    "        temp_batsman = - ((i*0.1 - batting_avg_batsman)**2 + (j*0.1 - bowling_avg_batsman)**2)/2 + np.log (probability_batsman)\n",
    "        temp_bowler = - ( (i*0.1 - batting_avg_bowler)**2 + (j*0.1 - bowling_avg_bowler)**2)/2 + np.log (probability_bowler)\n",
    "        temp_allrounder = - ( (i*0.1 - batting_avg_allrounder)**2 + (j*0.1 - bowling_avg_allrounder)**2)/2 + np.log (probability_allrounder)\n",
    "        if (temp_batsman < temp_bowler):\n",
    "            if (temp_bowler < temp_allrounder):\n",
    "                dis_plot_linear[i][j] = 0 #allrounder\n",
    "            else:\n",
    "                dis_plot_linear[i][j] = 1 #Bowler\n",
    "        else:\n",
    "            if (temp_allrounder < temp_batsman):\n",
    "                dis_plot_linear[i][j] = -1 #Batsman\n",
    "            else:\n",
    "                dis_plot_linear[i][j] = 0 #Allrounder\n",
    "           \n",
    "    \n",
    "print (\"Linear Predictor: Prediction Accuracy =\", float(correct_prediction)*100/total_prediction,\" Cumulative Loss =\",cumulative_loss)\n",
    "\n",
    "\n",
    "#For Bayesian: Prob((BatAvg,BowlAvg)| Bowler) follows N(muPlusOne,SigmaPlusOne)\n",
    "# Prob((BatAvg,BowlAvg)| Batsman) follows N(muMinusOne,SigmaMinusOne)\n",
    "# Prob( (BatAvg,BowlAvg| Allrounder) follows N(mu_0,sigma0)\n",
    "\n",
    "#ln(Prob((x0,x1)|Batsman)) = -((x0-muMinus[0])**2/SMinu[1,1] + (x1-muMinus[1])**2)/SMinu[2,2] -2*batcor12*(x0-muMinus[0])*(x1-muMinus[1])/sqrt(Sminu[1,1]*SMinu[2,2]))*bat_coeff - ln(det(SigmaMinus))/2 + ln(Prob(Batsman))\n",
    "#ln(Prob((x0,x1)|Bowler)) = -((x0-muPlus[0])**2/SPlus[1,1] + (x1-muPlus[1])**2)/SPlus[2,2] -2*bowlcor12*(x0-muPlus[0])*(x1-muPlus[1])/sqrt(SPlus[1,1]*SSplu[2,2]))*bowl_coeff - ln(det(SigmaPlus))/2 + ln(Prob(Bowler))\n",
    "\n",
    "\n",
    "#Testing Bayesian Classifier\n",
    "correct_prediction = 0\n",
    "total_prediction = 0\n",
    "cumulative_loss = 0\n",
    "Y_test_pred_bayes = []\n",
    "for index in range(len(y_test)):\n",
    "    term_batsman = inv_bat11*(x_test[index,0] - batting_avg_batsman)**2 + 2*inv_bat12*(x_test[index,0] - batting_avg_batsman)*(x_test[index,1] - bowling_avg_batsman) + inv_bat22*(x_test[index,1]-bowling_avg_batsman)**2\n",
    "    term_bowler = inv_bowl11*(x_test[index,0] - batting_avg_bowler)**2 + 2*inv_bowl12*(x_test[index,0] - batting_avg_bowler)*(x_test[index,1] - bowling_avg_bowler) + inv_bowl22*(x_test[index,1]-bowling_avg_bowler)**2\n",
    "    term_allrounder = inv_all11*(x_test[index,0] - batting_avg_allrounder)**2 + 2*inv_all12*(x_test[index,0] - batting_avg_allrounder)*(x_test[index,1] - bowling_avg_allrounder) + inv_bowl22*(x_test[index,1]-bowling_avg_allrounder)**2\n",
    "    temp_batsman = -(term_batsman)/2 - np.log(detbat)/2 + np.log (probability_batsman)\n",
    "    temp_bowler = -(term_bowler)/2 - np.log(detbowl)/2 + np.log (probability_bowler)\n",
    "    temp_allrounder = -(term_allrounder)/2 -np.log(detall)/2 + np.log(probability_allrounder)\n",
    "    if (temp_batsman < temp_bowler):\n",
    "        if (temp_bowler < temp_allrounder):\n",
    "            predict = 0\n",
    "            Y_test_pred_bayes.append(0)\n",
    "        else:\n",
    "            predict = 2\n",
    "            Y_test_pred_bayes.append(1)\n",
    "    else:\n",
    "        if (temp_allrounder < temp_batsman):\n",
    "            predict = 1\n",
    "            Y_test_pred_bayes.append(-1)\n",
    "        else:\n",
    "            predict = 0\n",
    "            Y_test_pred_bayes.append(0)\n",
    "    if (predict == y_test[index]):\n",
    "        correct_prediction += 1\n",
    "    total_prediction +=1\n",
    "    cumulative_loss += lossMatrix[predict][y_test[index]]\n",
    "\n",
    "#Data for discriminating plot\n",
    "#Again grid of size 60 X 60 with cell size 0.1\n",
    "\n",
    "dis_plot_Bayesian = np.zeros( (600,600))\n",
    "\n",
    "for i in range(600):\n",
    "    for j in range(600):\n",
    "        term_batsman = inv_bat11*(i*0.1 - batting_avg_batsman)**2 + 2*inv_bat12*(i*0.1 - batting_avg_batsman)*(j*0.1 - bowling_avg_batsman) + inv_bat22*(j*0.1-bowling_avg_batsman)**2\n",
    "        term_bowler = inv_bowl11*(i*0.1 - batting_avg_bowler)**2 + 2*inv_bowl12*(i*0.1 - batting_avg_bowler)*(j*0.1 - bowling_avg_bowler) + inv_bowl22*(j*0.1 -bowling_avg_bowler)**2\n",
    "        term_allrounder = inv_all11*(i*0.1- batting_avg_allrounder)**2 + 2*inv_all12*(i*0.1 - batting_avg_allrounder)*(j*0.1- bowling_avg_allrounder) + inv_bowl22*(j*0.1-bowling_avg_allrounder)**2\n",
    "        temp_batsman = -(term_batsman)/2 - np.log(detbat)/2 + np.log (probability_batsman)\n",
    "        temp_bowler = -(term_bowler)/2 - np.log(detbowl)/2 + np.log (probability_bowler)\n",
    "        temp_allrounder = -(term_allrounder)/2 -np.log(detall)/2 + np.log(probability_allrounder)   \n",
    "        if (temp_batsman < temp_bowler):\n",
    "            if (temp_bowler < temp_allrounder):\n",
    "                dis_plot_Bayesian[i][j] = 0 #allrounder\n",
    "            else:\n",
    "                dis_plot_Bayesian[i][j] = 1 #Bowler\n",
    "        else:\n",
    "            if (temp_allrounder < temp_batsman):\n",
    "                dis_plot_Bayesian[i][j] = -1 #Batsman\n",
    "            else:\n",
    "                dis_plot_Bayesian[i][j] = 0 #Allrounder\n",
    "    \n",
    "print( \"Bayesian Predictor: Prediction Accuracy =\", float(correct_prediction)*100/total_prediction,\" Cumulative Loss =\",cumulative_loss)\n",
    "\n",
    "\n",
    "#Scatter plot for batting average and bowling average  to visualize the prediction\n",
    "datalabel_10 = []\n",
    "datalabel_20 = []\n",
    "datalabel_11 = []\n",
    "datalabel_21 = []\n",
    "datalabel_12 = []\n",
    "datalabel_22 = []\n",
    "disdatalabel_10 = []\n",
    "disdatalabel_20 = []\n",
    "disdatalabel_11 = []\n",
    "disdatalabel_21 = []\n",
    "disdatalabel_12 = []\n",
    "disdatalabel_22 = []\n",
    "\n",
    "for i in range(600):\n",
    "    for j in range(600):\n",
    "        if (dis_plot_linear[i][j] == 0):\n",
    "            disdatalabel_10.append(i*0.1)\n",
    "            disdatalabel_20.append(j*0.1)\n",
    "        if (dis_plot_linear[i][j] == -1): \n",
    "            disdatalabel_11.append(i*0.1)\n",
    "            disdatalabel_21.append(j*0.1)\n",
    "        if (dis_plot_linear[i][j] == 1): \n",
    "            disdatalabel_12.append(i*0.1)\n",
    "            disdatalabel_22.append(j*0.1)\n",
    "for i in range(len(x_train_final)):\n",
    "    if (y_train_final[i] == 0) and (x_train_final[i][0] < 61) and (x_train_final[i][1] < 61): #Allrounder\n",
    "        datalabel_10.append(x_train_final[i][0])\n",
    "        datalabel_20.append(x_train_final[i][1])\n",
    "    elif (y_train_final[i] == -1) and (x_train_final[i][0] < 61) and (x_train_final[i][1] < 61): #Batting\n",
    "        datalabel_11.append(x_train_final[i][0])\n",
    "        datalabel_21.append(x_train_final[i][1])\n",
    "    elif (y_train_final[i] == 1) and (x_train_final[i][0] < 61) and (x_train_final[i][1] < 61): #Bowling\n",
    "        datalabel_12.append(x_train_final[i][0])\n",
    "        datalabel_22.append(x_train_final[i][1])\n",
    "\n",
    "\n",
    "figure()\n",
    "xlabel('Batting Average')\n",
    "ylabel('Bowling Average')\n",
    "title('Prob 4b: Linear Predictor:  Allrounder: RED;  Batsman: GREEN; Bowler: BLUE')\n",
    "scatter(disdatalabel_10, disdatalabel_20,color='r')\n",
    "scatter(disdatalabel_11, disdatalabel_21,color='g')\n",
    "scatter(disdatalabel_12, disdatalabel_22,color='b')\n",
    "scatter(datalabel_10, datalabel_20,color='r',marker='^')\n",
    "scatter(datalabel_11, datalabel_21,color='g',marker='<')\n",
    "scatter(datalabel_12, datalabel_22,color='b',marker='>')\n",
    "\n",
    "datalabel_10 = []\n",
    "datalabel_20 = []\n",
    "datalabel_11 = []\n",
    "datalabel_21 = []\n",
    "datalabel_12 = []\n",
    "datalabel_22 = []\n",
    "disdatalabel_10 = []\n",
    "disdatalabel_20 = []\n",
    "disdatalabel_11 = []\n",
    "disdatalabel_21 = []\n",
    "disdatalabel_12 = []\n",
    "disdatalabel_22 = []\n",
    "\n",
    "for i in range(600):\n",
    "    for j in range(600):\n",
    "        if (dis_plot_Bayesian[i][j] == 0):\n",
    "            disdatalabel_10.append(i*0.1)\n",
    "            disdatalabel_20.append(j*0.1)\n",
    "        if (dis_plot_Bayesian[i][j] == -1): \n",
    "            disdatalabel_11.append(i*0.1)\n",
    "            disdatalabel_21.append(j*0.1)\n",
    "        if (dis_plot_Bayesian[i][j] == 1): \n",
    "            disdatalabel_12.append(i*0.1)\n",
    "            disdatalabel_22.append(j*0.1)\n",
    "            \n",
    "for i in range(len(x_train_final)):\n",
    "    if (y_train_final[i] == 0) and (x_train_final[i][0] < 61) and (x_train_final[i][1] < 61): #Allrounder\n",
    "        datalabel_10.append(x_train_final[i][0])\n",
    "        datalabel_20.append(x_train_final[i][1])\n",
    "    elif (y_train_final[i] == -1) and (x_train_final[i][0] < 61) and (x_train_final[i][1] < 61): #Batting\n",
    "        datalabel_11.append(x_train_final[i][0])\n",
    "        datalabel_21.append(x_train_final[i][1])\n",
    "    elif (y_train_final[i] == 1) and (x_train_final[i][0] < 61) and (x_train_final[i][1] < 61): #Bowling\n",
    "        datalabel_12.append(x_train_final[i][0])\n",
    "        datalabel_22.append(x_train_final[i][1])\n",
    "\n",
    "\n",
    "\n",
    "figure()\n",
    "xlabel('Batting Average')\n",
    "ylabel('Bowling Average')\n",
    "title('Prob 4b: Bayes Classifier:  Allrounder: RED;  Batsman: GREEN; Bowler: BLUE')\n",
    "scatter(disdatalabel_10, disdatalabel_20,color='r')\n",
    "scatter(disdatalabel_11, disdatalabel_21,color='g')\n",
    "scatter(disdatalabel_12, disdatalabel_22,color='b')\n",
    "scatter(datalabel_10, datalabel_20,color='r',marker='^')\n",
    "scatter(datalabel_11, datalabel_21,color='g',marker='<')\n",
    "scatter(datalabel_12, datalabel_22,color='b',marker='>')\n",
    "\n",
    "show()\n",
    "\n",
    "\n",
    "    \n",
    "    \n",
    "    \n",
    "\n",
    "    "
   ]
  },
  {
   "cell_type": "markdown",
   "metadata": {
    "colab_type": "text",
    "id": "Isp0HQWroW7J"
   },
   "source": [
    "**Plots:**\n",
    "\n",
    "In the next CodeWrite cell, plot all the 4 classifiers on a 2d plot. Take a suitable grid covering averages (0,60) in both dimensions. (Color the different classes accordingly). Add the training data points also on the plot. Label the plots appropriately. "
   ]
  },
  {
   "cell_type": "code",
   "execution_count": 38,
   "metadata": {
    "colab": {},
    "colab_type": "code",
    "id": "32FoBR6WoW7L"
   },
   "outputs": [],
   "source": [
    "#All the four classifiers have been plotted above itself. Kindly refer."
   ]
  },
  {
   "cell_type": "markdown",
   "metadata": {
    "colab_type": "text",
    "id": "_fyQx73JoW7S"
   },
   "source": [
    "**Observations:**\n",
    "\n",
    "In the next Textwrite cell, summarise (use the plots of the data and the assumptions in the problem to explain) your observations regarding the four learnt classifiers, and also give the error rate of the four classifiers as a 2x2 table."
   ]
  },
  {
   "cell_type": "markdown",
   "metadata": {
    "colab_type": "text",
    "id": "fP7EhbdpoW7V"
   },
   "source": [
    "Observations:\n",
    "\n",
    "1)The prediction accuracy is higher for bayesian prediction.\n",
    "2)The prediction accuracy for binary classification is higher than that of tertiary classification.\n",
    "3)For binary classification under the bayesian predictor, major portion of the graph depicts batsman and for the multi-class classification case, the bayesian predictor, major portion of the graph depcits all-rounder.\n",
    "\n",
    "Error rates for the classifiers\n",
    "\n",
    "4a) Linear prediction - 19.5\n",
    "    Bayesian prediction - 10\n",
    "4b) Linear prediction - 33.33\n",
    "    Bayesian prediction - 33.33\n",
    "    \n"
   ]
  }
 ],
 "metadata": {
  "colab": {
   "collapsed_sections": [
    "YqdW05iuaJDW",
    "9Xue1NVSA3WS",
    "fGv7az_y6Wyk",
    "oRxDShbjAXjI",
    "slmjGSiuFPZv",
    "k_DDcDPx_zKo",
    "rBrANeu0aILI",
    "0akOo4P-EjhV",
    "zxGXZkGXbnmJ",
    "HCAFmjmFd2U0",
    "ciF6EYBIeciU",
    "gTt_8MS4Zm03",
    "lRzDZxIhn76D"
   ],
   "name": "Assignment1.ipynb",
   "provenance": []
  },
  "kernelspec": {
   "display_name": "Python 3",
   "language": "python",
   "name": "python3"
  },
  "language_info": {
   "codemirror_mode": {
    "name": "ipython",
    "version": 3
   },
   "file_extension": ".py",
   "mimetype": "text/x-python",
   "name": "python",
   "nbconvert_exporter": "python",
   "pygments_lexer": "ipython3",
   "version": "3.6.9"
  }
 },
 "nbformat": 4,
 "nbformat_minor": 1
}
